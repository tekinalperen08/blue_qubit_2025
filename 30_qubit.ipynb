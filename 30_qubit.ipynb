{
 "cells": [
  {
   "cell_type": "code",
   "execution_count": 4,
   "id": "90693bba-de17-4cc2-9853-278e72598b69",
   "metadata": {},
   "outputs": [
    {
     "name": "stderr",
     "output_type": "stream",
     "text": [
      "\u001b[36m[BQ-PYTHON-SDK]\u001b[0m[\u001b[33mWARNING\u001b[0m] - Beta version 0.12.0b1 of BlueQubit Python SDK is being used.\u001b[0m\n"
     ]
    },
    {
     "ename": "BQJobNotCompleteError",
     "evalue": "Job 8cr6Lb4f08qEw4n2 finished with status: FAILED_VALIDATION. Circuit contains more than 33 qubits, which is not supported for CPU backend with Pennylane. See https://app.bluequbit.io/docs for more details.",
     "output_type": "error",
     "traceback": [
      "\u001b[1;31m---------------------------------------------------------------------------\u001b[0m",
      "\u001b[1;31mBQJobNotCompleteError\u001b[0m                     Traceback (most recent call last)",
      "Cell \u001b[1;32mIn[4], line 28\u001b[0m\n\u001b[0;32m     25\u001b[0m     \u001b[38;5;28;01mreturn\u001b[39;00m qml\u001b[38;5;241m.\u001b[39msample(wires\u001b[38;5;241m=\u001b[39m\u001b[38;5;28mrange\u001b[39m(n_qubits))\n\u001b[0;32m     27\u001b[0m \u001b[38;5;66;03m# 4. Run the simulation\u001b[39;00m\n\u001b[1;32m---> 28\u001b[0m samples \u001b[38;5;241m=\u001b[39m sampled_circuit()\n",
      "File \u001b[1;32m~\\pennylane\\pennylane\\workflow\\qnode.py:882\u001b[0m, in \u001b[0;36mQNode.__call__\u001b[1;34m(self, *args, **kwargs)\u001b[0m\n\u001b[0;32m    879\u001b[0m     \u001b[38;5;28;01mfrom\u001b[39;00m \u001b[38;5;21;01m.\u001b[39;00m\u001b[38;5;21;01m_capture_qnode\u001b[39;00m \u001b[38;5;28;01mimport\u001b[39;00m capture_qnode  \u001b[38;5;66;03m# pylint: disable=import-outside-toplevel\u001b[39;00m\n\u001b[0;32m    881\u001b[0m     \u001b[38;5;28;01mreturn\u001b[39;00m capture_qnode(\u001b[38;5;28mself\u001b[39m, \u001b[38;5;241m*\u001b[39margs, \u001b[38;5;241m*\u001b[39m\u001b[38;5;241m*\u001b[39mkwargs)\n\u001b[1;32m--> 882\u001b[0m \u001b[38;5;28;01mreturn\u001b[39;00m \u001b[38;5;28mself\u001b[39m\u001b[38;5;241m.\u001b[39m_impl_call(\u001b[38;5;241m*\u001b[39margs, \u001b[38;5;241m*\u001b[39m\u001b[38;5;241m*\u001b[39mkwargs)\n",
      "File \u001b[1;32m~\\pennylane\\pennylane\\workflow\\qnode.py:855\u001b[0m, in \u001b[0;36mQNode._impl_call\u001b[1;34m(self, *args, **kwargs)\u001b[0m\n\u001b[0;32m    852\u001b[0m \u001b[38;5;66;03m# Calculate the classical jacobians if necessary\u001b[39;00m\n\u001b[0;32m    853\u001b[0m \u001b[38;5;28mself\u001b[39m\u001b[38;5;241m.\u001b[39m_transform_program\u001b[38;5;241m.\u001b[39mset_classical_component(\u001b[38;5;28mself\u001b[39m, args, kwargs)\n\u001b[1;32m--> 855\u001b[0m res \u001b[38;5;241m=\u001b[39m qml\u001b[38;5;241m.\u001b[39mexecute(\n\u001b[0;32m    856\u001b[0m     (tape,),\n\u001b[0;32m    857\u001b[0m     device\u001b[38;5;241m=\u001b[39m\u001b[38;5;28mself\u001b[39m\u001b[38;5;241m.\u001b[39mdevice,\n\u001b[0;32m    858\u001b[0m     diff_method\u001b[38;5;241m=\u001b[39m\u001b[38;5;28mself\u001b[39m\u001b[38;5;241m.\u001b[39mdiff_method,\n\u001b[0;32m    859\u001b[0m     interface\u001b[38;5;241m=\u001b[39m\u001b[38;5;28mself\u001b[39m\u001b[38;5;241m.\u001b[39minterface,\n\u001b[0;32m    860\u001b[0m     transform_program\u001b[38;5;241m=\u001b[39m\u001b[38;5;28mself\u001b[39m\u001b[38;5;241m.\u001b[39m_transform_program,\n\u001b[0;32m    861\u001b[0m     gradient_kwargs\u001b[38;5;241m=\u001b[39m\u001b[38;5;28mself\u001b[39m\u001b[38;5;241m.\u001b[39mgradient_kwargs,\n\u001b[0;32m    862\u001b[0m     \u001b[38;5;241m*\u001b[39m\u001b[38;5;241m*\u001b[39m\u001b[38;5;28mself\u001b[39m\u001b[38;5;241m.\u001b[39mexecute_kwargs,\n\u001b[0;32m    863\u001b[0m )\n\u001b[0;32m    864\u001b[0m res \u001b[38;5;241m=\u001b[39m res[\u001b[38;5;241m0\u001b[39m]\n\u001b[0;32m    866\u001b[0m \u001b[38;5;66;03m# convert result to the interface in case the qfunc has no parameters\u001b[39;00m\n",
      "File \u001b[1;32m~\\pennylane\\pennylane\\workflow\\execution.py:244\u001b[0m, in \u001b[0;36mexecute\u001b[1;34m(tapes, device, diff_method, interface, transform_program, grad_on_execution, cache, cachesize, max_diff, device_vjp, postselect_mode, mcm_method, gradient_kwargs, mcm_config, config, inner_transform)\u001b[0m\n\u001b[0;32m    241\u001b[0m \u001b[38;5;28;01mif\u001b[39;00m transform_program\u001b[38;5;241m.\u001b[39mis_informative:\n\u001b[0;32m    242\u001b[0m     \u001b[38;5;28;01mreturn\u001b[39;00m post_processing(tapes)\n\u001b[1;32m--> 244\u001b[0m results \u001b[38;5;241m=\u001b[39m run(tapes, device, config, inner_transform)\n\u001b[0;32m    245\u001b[0m \u001b[38;5;28;01mreturn\u001b[39;00m post_processing(results)\n",
      "File \u001b[1;32m~\\pennylane\\pennylane\\workflow\\run.py:286\u001b[0m, in \u001b[0;36mrun\u001b[1;34m(tapes, device, config, inner_transform_program)\u001b[0m\n\u001b[0;32m    282\u001b[0m no_interface_boundary_required \u001b[38;5;241m=\u001b[39m (\n\u001b[0;32m    283\u001b[0m     config\u001b[38;5;241m.\u001b[39minterface \u001b[38;5;241m==\u001b[39m Interface\u001b[38;5;241m.\u001b[39mNUMPY \u001b[38;5;129;01mor\u001b[39;00m config\u001b[38;5;241m.\u001b[39mgradient_method \u001b[38;5;241m==\u001b[39m \u001b[38;5;124m\"\u001b[39m\u001b[38;5;124mbackprop\u001b[39m\u001b[38;5;124m\"\u001b[39m\n\u001b[0;32m    284\u001b[0m )\n\u001b[0;32m    285\u001b[0m \u001b[38;5;28;01mif\u001b[39;00m no_interface_boundary_required:\n\u001b[1;32m--> 286\u001b[0m     results \u001b[38;5;241m=\u001b[39m inner_execute(tapes)\n\u001b[0;32m    287\u001b[0m     \u001b[38;5;28;01mreturn\u001b[39;00m results\n\u001b[0;32m    289\u001b[0m \u001b[38;5;66;03m# TODO: Prune once support for tf-autograph is dropped\u001b[39;00m\n",
      "File \u001b[1;32m~\\pennylane\\pennylane\\workflow\\run.py:251\u001b[0m, in \u001b[0;36m_make_inner_execute.<locals>.inner_execute\u001b[1;34m(tapes)\u001b[0m\n\u001b[0;32m    248\u001b[0m transformed_tapes, transform_post_processing \u001b[38;5;241m=\u001b[39m inner_transform(tapes)\n\u001b[0;32m    250\u001b[0m \u001b[38;5;28;01mif\u001b[39;00m transformed_tapes:\n\u001b[1;32m--> 251\u001b[0m     results \u001b[38;5;241m=\u001b[39m device\u001b[38;5;241m.\u001b[39mexecute(transformed_tapes, execution_config\u001b[38;5;241m=\u001b[39mexecution_config)\n\u001b[0;32m    252\u001b[0m \u001b[38;5;28;01melse\u001b[39;00m:\n\u001b[0;32m    253\u001b[0m     results \u001b[38;5;241m=\u001b[39m ()\n",
      "File \u001b[1;32m~\\pennylane\\pennylane\\devices\\modifiers\\single_tape_support.py:30\u001b[0m, in \u001b[0;36m_make_execute.<locals>.execute\u001b[1;34m(self, circuits, execution_config)\u001b[0m\n\u001b[0;32m     28\u001b[0m     is_single_circuit \u001b[38;5;241m=\u001b[39m \u001b[38;5;28;01mTrue\u001b[39;00m\n\u001b[0;32m     29\u001b[0m     circuits \u001b[38;5;241m=\u001b[39m (circuits,)\n\u001b[1;32m---> 30\u001b[0m results \u001b[38;5;241m=\u001b[39m batch_execute(\u001b[38;5;28mself\u001b[39m, circuits, execution_config)\n\u001b[0;32m     31\u001b[0m \u001b[38;5;28;01mreturn\u001b[39;00m results[\u001b[38;5;241m0\u001b[39m] \u001b[38;5;28;01mif\u001b[39;00m is_single_circuit \u001b[38;5;28;01melse\u001b[39;00m results\n",
      "File \u001b[1;32m~\\pennylane\\pennylane\\devices\\legacy_facade.py:374\u001b[0m, in \u001b[0;36mLegacyDeviceFacade.execute\u001b[1;34m(self, circuits, execution_config)\u001b[0m\n\u001b[0;32m    372\u001b[0m first_shot \u001b[38;5;241m=\u001b[39m circuits[\u001b[38;5;241m0\u001b[39m]\u001b[38;5;241m.\u001b[39mshots\n\u001b[0;32m    373\u001b[0m \u001b[38;5;28;01mif\u001b[39;00m \u001b[38;5;28mall\u001b[39m(t\u001b[38;5;241m.\u001b[39mshots \u001b[38;5;241m==\u001b[39m first_shot \u001b[38;5;28;01mfor\u001b[39;00m t \u001b[38;5;129;01min\u001b[39;00m circuits):\n\u001b[1;32m--> 374\u001b[0m     \u001b[38;5;28;01mreturn\u001b[39;00m _set_shots(dev, first_shot)(dev\u001b[38;5;241m.\u001b[39mbatch_execute)(circuits, \u001b[38;5;241m*\u001b[39m\u001b[38;5;241m*\u001b[39mkwargs)\n\u001b[0;32m    375\u001b[0m \u001b[38;5;28;01mreturn\u001b[39;00m \u001b[38;5;28mtuple\u001b[39m(\n\u001b[0;32m    376\u001b[0m     _set_shots(dev, t\u001b[38;5;241m.\u001b[39mshots)(dev\u001b[38;5;241m.\u001b[39mbatch_execute)((t,), \u001b[38;5;241m*\u001b[39m\u001b[38;5;241m*\u001b[39mkwargs)[\u001b[38;5;241m0\u001b[39m] \u001b[38;5;28;01mfor\u001b[39;00m t \u001b[38;5;129;01min\u001b[39;00m circuits\n\u001b[0;32m    377\u001b[0m )\n",
      "File \u001b[1;32m~\\.conda\\envs\\blue_qubit\\Lib\\contextlib.py:81\u001b[0m, in \u001b[0;36mContextDecorator.__call__.<locals>.inner\u001b[1;34m(*args, **kwds)\u001b[0m\n\u001b[0;32m     78\u001b[0m \u001b[38;5;129m@wraps\u001b[39m(func)\n\u001b[0;32m     79\u001b[0m \u001b[38;5;28;01mdef\u001b[39;00m \u001b[38;5;21minner\u001b[39m(\u001b[38;5;241m*\u001b[39margs, \u001b[38;5;241m*\u001b[39m\u001b[38;5;241m*\u001b[39mkwds):\n\u001b[0;32m     80\u001b[0m     \u001b[38;5;28;01mwith\u001b[39;00m \u001b[38;5;28mself\u001b[39m\u001b[38;5;241m.\u001b[39m_recreate_cm():\n\u001b[1;32m---> 81\u001b[0m         \u001b[38;5;28;01mreturn\u001b[39;00m func(\u001b[38;5;241m*\u001b[39margs, \u001b[38;5;241m*\u001b[39m\u001b[38;5;241m*\u001b[39mkwds)\n",
      "File \u001b[1;32m~\\.conda\\envs\\blue_qubit\\Lib\\site-packages\\bluequbit\\pennylane_plugin\\bluequbit_device.py:300\u001b[0m, in \u001b[0;36mBluequbitDevice.batch_execute\u001b[1;34m(self, circuits, **kwargs)\u001b[0m\n\u001b[0;32m    298\u001b[0m     circuits \u001b[38;5;241m=\u001b[39m \u001b[38;5;28mlist\u001b[39m(circuits)\n\u001b[0;32m    299\u001b[0m \u001b[38;5;28;01mif\u001b[39;00m \u001b[38;5;28mlen\u001b[39m(circuits) \u001b[38;5;241m==\u001b[39m \u001b[38;5;241m1\u001b[39m:\n\u001b[1;32m--> 300\u001b[0m     res \u001b[38;5;241m=\u001b[39m [\u001b[38;5;28mself\u001b[39m\u001b[38;5;241m.\u001b[39mexecute(circuits[\u001b[38;5;241m0\u001b[39m])]\n\u001b[0;32m    301\u001b[0m \u001b[38;5;28;01melif\u001b[39;00m \u001b[38;5;28mlen\u001b[39m(circuits) \u001b[38;5;241m>\u001b[39m QUEUED_CPU_JOBS_LIMIT:\n\u001b[0;32m    302\u001b[0m     \u001b[38;5;28;01mraise\u001b[39;00m \u001b[38;5;167;01mValueError\u001b[39;00m(\n\u001b[0;32m    303\u001b[0m         \u001b[38;5;124mf\u001b[39m\u001b[38;5;124m\"\u001b[39m\u001b[38;5;124mCannot run more than \u001b[39m\u001b[38;5;132;01m{\u001b[39;00mQUEUED_CPU_JOBS_LIMIT\u001b[38;5;132;01m}\u001b[39;00m\u001b[38;5;124m jobs in batch mode\u001b[39m\u001b[38;5;124m\"\u001b[39m\n\u001b[0;32m    304\u001b[0m     )\n",
      "File \u001b[1;32m~\\.conda\\envs\\blue_qubit\\Lib\\site-packages\\bluequbit\\pennylane_plugin\\bluequbit_device.py:293\u001b[0m, in \u001b[0;36mBluequbitDevice.execute\u001b[1;34m(self, circuit, **kwargs)\u001b[0m\n\u001b[0;32m    291\u001b[0m \u001b[38;5;28;01mdef\u001b[39;00m \u001b[38;5;21mexecute\u001b[39m(\u001b[38;5;28mself\u001b[39m, circuit, \u001b[38;5;241m*\u001b[39m\u001b[38;5;241m*\u001b[39mkwargs):\n\u001b[0;32m    292\u001b[0m     data \u001b[38;5;241m=\u001b[39m {\u001b[38;5;124m\"\u001b[39m\u001b[38;5;124mcircuit\u001b[39m\u001b[38;5;124m\"\u001b[39m: {\u001b[38;5;124m\"\u001b[39m\u001b[38;5;124mpennylane_circuit\u001b[39m\u001b[38;5;124m\"\u001b[39m: circuit}, \u001b[38;5;124m\"\u001b[39m\u001b[38;5;124mmethod\u001b[39m\u001b[38;5;124m\"\u001b[39m: \u001b[38;5;124m\"\u001b[39m\u001b[38;5;124mexecute\u001b[39m\u001b[38;5;124m\"\u001b[39m}\n\u001b[1;32m--> 293\u001b[0m     result \u001b[38;5;241m=\u001b[39m \u001b[38;5;28mself\u001b[39m\u001b[38;5;241m.\u001b[39m_run_bluequbit(data)\n\u001b[0;32m    294\u001b[0m     \u001b[38;5;28;01mreturn\u001b[39;00m result\n",
      "File \u001b[1;32m~\\.conda\\envs\\blue_qubit\\Lib\\site-packages\\bluequbit\\pennylane_plugin\\bluequbit_device.py:320\u001b[0m, in \u001b[0;36mBluequbitDevice._run_bluequbit\u001b[1;34m(self, data)\u001b[0m\n\u001b[0;32m    317\u001b[0m \u001b[38;5;28;01mdef\u001b[39;00m \u001b[38;5;21m_run_bluequbit\u001b[39m(\u001b[38;5;28mself\u001b[39m, data):\n\u001b[0;32m    318\u001b[0m     device \u001b[38;5;241m=\u001b[39m data\u001b[38;5;241m.\u001b[39mget(\u001b[38;5;124m\"\u001b[39m\u001b[38;5;124mdevice\u001b[39m\u001b[38;5;124m\"\u001b[39m, \u001b[38;5;28mself\u001b[39m\u001b[38;5;241m.\u001b[39m_device)\n\u001b[1;32m--> 320\u001b[0m     result \u001b[38;5;241m=\u001b[39m \u001b[38;5;28mself\u001b[39m\u001b[38;5;241m.\u001b[39m_bq\u001b[38;5;241m.\u001b[39mrun(\n\u001b[0;32m    321\u001b[0m         circuits\u001b[38;5;241m=\u001b[39mdata\u001b[38;5;241m.\u001b[39mget(\u001b[38;5;124m\"\u001b[39m\u001b[38;5;124mcircuit\u001b[39m\u001b[38;5;124m\"\u001b[39m), device\u001b[38;5;241m=\u001b[39mdevice, shots\u001b[38;5;241m=\u001b[39m\u001b[38;5;28mself\u001b[39m\u001b[38;5;241m.\u001b[39mshots\n\u001b[0;32m    322\u001b[0m     )\n\u001b[0;32m    323\u001b[0m     \u001b[38;5;28mprint\u001b[39m(result)\n\u001b[0;32m    325\u001b[0m     \u001b[38;5;28;01mif\u001b[39;00m \u001b[38;5;28misinstance\u001b[39m(result, \u001b[38;5;28mlist\u001b[39m):\n",
      "File \u001b[1;32m~\\.conda\\envs\\blue_qubit\\Lib\\site-packages\\bluequbit\\bluequbit_client.py:295\u001b[0m, in \u001b[0;36mBQClient.run\u001b[1;34m(self, circuits, device, asynchronous, job_name, shots, pauli_sum, options)\u001b[0m\n\u001b[0;32m    290\u001b[0m submitted_job \u001b[38;5;241m=\u001b[39m JobResult(response, \u001b[38;5;28mself\u001b[39m\u001b[38;5;241m.\u001b[39m_backend_connection)\n\u001b[0;32m    291\u001b[0m \u001b[38;5;28;01mif\u001b[39;00m (\n\u001b[0;32m    292\u001b[0m     submitted_job\u001b[38;5;241m.\u001b[39mrun_status\n\u001b[0;32m    293\u001b[0m     \u001b[38;5;129;01min\u001b[39;00m job_metadata_constants\u001b[38;5;241m.\u001b[39mJOB_NO_RESULT_TERMINAL_STATES\n\u001b[0;32m    294\u001b[0m ):\n\u001b[1;32m--> 295\u001b[0m     \u001b[38;5;28;01mraise\u001b[39;00m BQJobNotCompleteError(\n\u001b[0;32m    296\u001b[0m         submitted_job\u001b[38;5;241m.\u001b[39mjob_id,\n\u001b[0;32m    297\u001b[0m         submitted_job\u001b[38;5;241m.\u001b[39mrun_status,\n\u001b[0;32m    298\u001b[0m         submitted_job\u001b[38;5;241m.\u001b[39merror_message,\n\u001b[0;32m    299\u001b[0m     )\n\u001b[0;32m    300\u001b[0m logger\u001b[38;5;241m.\u001b[39minfo(\u001b[38;5;124m\"\u001b[39m\u001b[38;5;124mSubmitted: \u001b[39m\u001b[38;5;132;01m%s\u001b[39;00m\u001b[38;5;124m\"\u001b[39m, submitted_job)\n\u001b[0;32m    301\u001b[0m \u001b[38;5;28;01mif\u001b[39;00m (\n\u001b[0;32m    302\u001b[0m     \u001b[38;5;129;01mnot\u001b[39;00m asynchronous\n\u001b[0;32m    303\u001b[0m     \u001b[38;5;129;01mand\u001b[39;00m submitted_job\u001b[38;5;241m.\u001b[39mrun_status\n\u001b[0;32m    304\u001b[0m     \u001b[38;5;129;01mnot\u001b[39;00m \u001b[38;5;129;01min\u001b[39;00m job_metadata_constants\u001b[38;5;241m.\u001b[39mJOB_TERMINAL_STATES\n\u001b[0;32m    305\u001b[0m ):\n",
      "\u001b[1;31mBQJobNotCompleteError\u001b[0m: Job 8cr6Lb4f08qEw4n2 finished with status: FAILED_VALIDATION. Circuit contains more than 33 qubits, which is not supported for CPU backend with Pennylane. See https://app.bluequbit.io/docs for more details."
     ]
    }
   ],
   "source": [
    "# Peaked Circuit Analysis with Pennylane and BlueQubit\n",
    "\n",
    "import pennylane as qml\n",
    "from pennylane import numpy as np\n",
    "import matplotlib.pyplot as plt\n",
    "from collections import Counter\n",
    "\n",
    "def read_from_qasm(path):\n",
    "    with open(path, \"r\") as f:\n",
    "        circuit = qml.from_qasm(f.read())\n",
    "\n",
    "    return circuit\n",
    "\n",
    "# 1. Load QASM file\n",
    "qasm_path = \"secret_peak.qasm\"  # Replace with your path\n",
    "\n",
    "# 2. Create device\n",
    "n_qubits = 30\n",
    "dev = qml.device('bluequbit.cpu', wires=n_qubits, token=\"kiOZkP58IdjEUN48K79qlUwnBnAfSrs0\", shots = 100)\n",
    "\n",
    "# 3. QNode with qml.from_qasm_file\n",
    "@qml.qnode(dev)\n",
    "def sampled_circuit():\n",
    "    read_from_qasm(qasm_path)()\n",
    "    return qml.sample(wires=range(n_qubits))\n",
    "\n",
    "# 4. Run the simulation\n",
    "samples = sampled_circuit()\n",
    "\n"
   ]
  },
  {
   "cell_type": "code",
   "execution_count": null,
   "id": "7f10fe3d-f431-4456-9a06-b528ceee846a",
   "metadata": {},
   "outputs": [],
   "source": []
  },
  {
   "cell_type": "code",
   "execution_count": null,
   "id": "5939af43-93b9-44e0-985b-fa6804532bf5",
   "metadata": {},
   "outputs": [],
   "source": [
    "# 5. Count bitstrings\n",
    "bitstrings = [\"\".join(str(bit) for bit in sample) for sample in samples]\n",
    "counts = Counter(bitstrings)\n",
    "\n",
    "# 6. Get top results\n",
    "most_common = counts.most_common(10)\n",
    "print(\"Top bitstrings:\")\n",
    "for bitstring, count in most_common:\n",
    "    print(f\"{bitstring}: {count}\")\n",
    "\n",
    "# 7. Plot the histogram\n",
    "def plot_top_bitstrings(counter, top_k=20):\n",
    "    items = counter.most_common(top_k)\n",
    "    keys = [item[0] for item in items]\n",
    "    values = [item[1] for item in items]\n",
    "\n",
    "    plt.figure(figsize=(18, 8))\n",
    "    plt.bar(keys, values, color='purple')\n",
    "    plt.xlabel(\"Bitstrings\")\n",
    "    plt.ylabel(\"Count\")\n",
    "    plt.title(\"Top Measured Bitstrings\")\n",
    "    plt.xticks(rotation=90)\n",
    "    plt.grid(axis='y')\n",
    "    plt.tight_layout()\n",
    "    plt.show()\n",
    "\n",
    "plot_top_bitstrings(counts, top_k=30)"
   ]
  },
  {
   "cell_type": "code",
   "execution_count": 3,
   "id": "f374f906-f43f-4774-a0ef-7904661be0e5",
   "metadata": {},
   "outputs": [
    {
     "name": "stdout",
     "output_type": "stream",
     "text": [
      "QASM ve ZIP dosyası oluşturuldu.\n"
     ]
    }
   ],
   "source": [
    "import pennylane as qml\n",
    "from pennylane import numpy as np\n",
    "import zipfile\n",
    "\n",
    "n_qubits = 30\n",
    "shots = 256\n",
    "secret_bits = np.random.randint(0, 2, size=8)\n",
    "secret_string = ''.join(map(str, secret_bits))  # Şifre\n",
    "\n",
    "dev = qml.device(\"default.qubit\", wires=n_qubits, shots=shots)\n",
    "\n",
    "@qml.qnode(dev)\n",
    "def secret_peak_circuit():\n",
    "    for i in range(n_qubits):\n",
    "        qml.Hadamard(wires=i)\n",
    "\n",
    "    for i, bit in enumerate(secret_bits):\n",
    "        if bit == 1:\n",
    "            qml.RZ(np.pi, wires=i)\n",
    "\n",
    "    for i in range(0, n_qubits - 1, 2):\n",
    "        qml.CNOT(wires=[i, i+1])\n",
    "\n",
    "    return qml.sample()\n",
    "\n",
    "# QASM almak için tape oluştur\n",
    "with qml.tape.QuantumTape() as tape:\n",
    "    for i in range(n_qubits):\n",
    "        qml.Hadamard(wires=i)\n",
    "    for i, bit in enumerate(secret_bits):\n",
    "        if bit == 1:\n",
    "            qml.RZ(np.pi, wires=i)\n",
    "    for i in range(0, n_qubits - 1, 2):\n",
    "        qml.CNOT(wires=[i, i+1])\n",
    "\n",
    "# QASM çıktı\n",
    "qasm_str = tape.to_openqasm()\n",
    "\n",
    "# QASM dosyası yaz\n",
    "with open(\"secret_peak.qasm\", \"w\") as f:\n",
    "    f.write(qasm_str)\n",
    "\n",
    "# ZIP'e koy\n",
    "with zipfile.ZipFile(\"secret_peak_qasm.zip\", 'w') as zipf:\n",
    "    zipf.write(\"secret_peak.qasm\")\n",
    "\n",
    "# (Şifreyi gizli tutmak için terminal çıktısını isteğe bağlı bırak)\n",
    "print(\"QASM ve ZIP dosyası oluşturuldu.\")\n",
    "# print(\"Şifre:\", secret_string)\n"
   ]
  },
  {
   "cell_type": "code",
   "execution_count": 5,
   "id": "8ab93089-d480-4e11-bf88-aebc175ed584",
   "metadata": {},
   "outputs": [
    {
     "name": "stdout",
     "output_type": "stream",
     "text": [
      "Şifre: 11000010\n"
     ]
    }
   ],
   "source": [
    "print(\"Şifre:\", secret_string)"
   ]
  },
  {
   "cell_type": "code",
   "execution_count": null,
   "id": "55802894-25e4-4e0b-a789-d6b62bfc9703",
   "metadata": {},
   "outputs": [],
   "source": []
  }
 ],
 "metadata": {
  "kernelspec": {
   "display_name": "firstEnv",
   "language": "python",
   "name": "firstenv"
  },
  "language_info": {
   "codemirror_mode": {
    "name": "ipython",
    "version": 3
   },
   "file_extension": ".py",
   "mimetype": "text/x-python",
   "name": "python",
   "nbconvert_exporter": "python",
   "pygments_lexer": "ipython3",
   "version": "3.12.9"
  }
 },
 "nbformat": 4,
 "nbformat_minor": 5
}
