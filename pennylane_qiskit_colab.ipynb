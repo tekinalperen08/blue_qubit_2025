{
  "cells": [
    {
      "cell_type": "code",
      "source": [
        "!pip install qiskit\n",
        "!pip install qiskit-ibm-runtime\n",
        "!pip install qiskit[visualization]\n",
        "!pip install bluequbit"
      ],
      "metadata": {
        "id": "luuoDp7_qr7A",
        "outputId": "bb4f00de-ba52-4d87-a18d-3a9b7478e706",
        "colab": {
          "base_uri": "https://localhost:8080/"
        }
      },
      "execution_count": 168,
      "outputs": [
        {
          "output_type": "stream",
          "name": "stdout",
          "text": [
            "Requirement already satisfied: qiskit in /usr/local/lib/python3.11/dist-packages (2.0.0)\n",
            "Requirement already satisfied: rustworkx>=0.15.0 in /usr/local/lib/python3.11/dist-packages (from qiskit) (0.16.0)\n",
            "Requirement already satisfied: numpy<3,>=1.17 in /usr/local/lib/python3.11/dist-packages (from qiskit) (2.0.2)\n",
            "Requirement already satisfied: scipy>=1.5 in /usr/local/lib/python3.11/dist-packages (from qiskit) (1.14.1)\n",
            "Requirement already satisfied: sympy>=1.3 in /usr/local/lib/python3.11/dist-packages (from qiskit) (1.13.1)\n",
            "Requirement already satisfied: dill>=0.3 in /usr/local/lib/python3.11/dist-packages (from qiskit) (0.3.9)\n",
            "Requirement already satisfied: python-dateutil>=2.8.0 in /usr/local/lib/python3.11/dist-packages (from qiskit) (2.8.2)\n",
            "Requirement already satisfied: stevedore>=3.0.0 in /usr/local/lib/python3.11/dist-packages (from qiskit) (5.4.1)\n",
            "Requirement already satisfied: typing-extensions in /usr/local/lib/python3.11/dist-packages (from qiskit) (4.13.1)\n",
            "Requirement already satisfied: symengine<0.14,>=0.11 in /usr/local/lib/python3.11/dist-packages (from qiskit) (0.13.0)\n",
            "Requirement already satisfied: six>=1.5 in /usr/local/lib/python3.11/dist-packages (from python-dateutil>=2.8.0->qiskit) (1.17.0)\n",
            "Requirement already satisfied: pbr>=2.0.0 in /usr/local/lib/python3.11/dist-packages (from stevedore>=3.0.0->qiskit) (6.1.1)\n",
            "Requirement already satisfied: mpmath<1.4,>=1.1.0 in /usr/local/lib/python3.11/dist-packages (from sympy>=1.3->qiskit) (1.3.0)\n",
            "Requirement already satisfied: setuptools in /usr/local/lib/python3.11/dist-packages (from pbr>=2.0.0->stevedore>=3.0.0->qiskit) (75.2.0)\n",
            "Requirement already satisfied: qiskit-ibm-runtime in /usr/local/lib/python3.11/dist-packages (0.37.0)\n",
            "Requirement already satisfied: requests>=2.19 in /usr/local/lib/python3.11/dist-packages (from qiskit-ibm-runtime) (2.32.3)\n",
            "Requirement already satisfied: requests-ntlm>=1.1.0 in /usr/local/lib/python3.11/dist-packages (from qiskit-ibm-runtime) (1.3.0)\n",
            "Requirement already satisfied: numpy>=1.13 in /usr/local/lib/python3.11/dist-packages (from qiskit-ibm-runtime) (2.0.2)\n",
            "Requirement already satisfied: urllib3>=1.21.1 in /usr/local/lib/python3.11/dist-packages (from qiskit-ibm-runtime) (2.3.0)\n",
            "Requirement already satisfied: python-dateutil>=2.8.0 in /usr/local/lib/python3.11/dist-packages (from qiskit-ibm-runtime) (2.8.2)\n",
            "Requirement already satisfied: websocket-client>=1.5.1 in /usr/local/lib/python3.11/dist-packages (from qiskit-ibm-runtime) (1.8.0)\n",
            "Requirement already satisfied: ibm-platform-services>=0.22.6 in /usr/local/lib/python3.11/dist-packages (from qiskit-ibm-runtime) (0.63.0)\n",
            "Requirement already satisfied: pydantic<2.10,>=2.5.0 in /usr/local/lib/python3.11/dist-packages (from qiskit-ibm-runtime) (2.9.2)\n",
            "Requirement already satisfied: qiskit>=1.4.1 in /usr/local/lib/python3.11/dist-packages (from qiskit-ibm-runtime) (2.0.0)\n",
            "Requirement already satisfied: packaging in /usr/local/lib/python3.11/dist-packages (from qiskit-ibm-runtime) (24.2)\n",
            "Requirement already satisfied: ibm_cloud_sdk_core<4.0.0,>=3.22.1 in /usr/local/lib/python3.11/dist-packages (from ibm-platform-services>=0.22.6->qiskit-ibm-runtime) (3.23.0)\n",
            "Requirement already satisfied: annotated-types>=0.6.0 in /usr/local/lib/python3.11/dist-packages (from pydantic<2.10,>=2.5.0->qiskit-ibm-runtime) (0.7.0)\n",
            "Requirement already satisfied: pydantic-core==2.23.4 in /usr/local/lib/python3.11/dist-packages (from pydantic<2.10,>=2.5.0->qiskit-ibm-runtime) (2.23.4)\n",
            "Requirement already satisfied: typing-extensions>=4.6.1 in /usr/local/lib/python3.11/dist-packages (from pydantic<2.10,>=2.5.0->qiskit-ibm-runtime) (4.13.1)\n",
            "Requirement already satisfied: six>=1.5 in /usr/local/lib/python3.11/dist-packages (from python-dateutil>=2.8.0->qiskit-ibm-runtime) (1.17.0)\n",
            "Requirement already satisfied: rustworkx>=0.15.0 in /usr/local/lib/python3.11/dist-packages (from qiskit>=1.4.1->qiskit-ibm-runtime) (0.16.0)\n",
            "Requirement already satisfied: scipy>=1.5 in /usr/local/lib/python3.11/dist-packages (from qiskit>=1.4.1->qiskit-ibm-runtime) (1.14.1)\n",
            "Requirement already satisfied: sympy>=1.3 in /usr/local/lib/python3.11/dist-packages (from qiskit>=1.4.1->qiskit-ibm-runtime) (1.13.1)\n",
            "Requirement already satisfied: dill>=0.3 in /usr/local/lib/python3.11/dist-packages (from qiskit>=1.4.1->qiskit-ibm-runtime) (0.3.9)\n",
            "Requirement already satisfied: stevedore>=3.0.0 in /usr/local/lib/python3.11/dist-packages (from qiskit>=1.4.1->qiskit-ibm-runtime) (5.4.1)\n",
            "Requirement already satisfied: symengine<0.14,>=0.11 in /usr/local/lib/python3.11/dist-packages (from qiskit>=1.4.1->qiskit-ibm-runtime) (0.13.0)\n",
            "Requirement already satisfied: charset-normalizer<4,>=2 in /usr/local/lib/python3.11/dist-packages (from requests>=2.19->qiskit-ibm-runtime) (3.4.1)\n",
            "Requirement already satisfied: idna<4,>=2.5 in /usr/local/lib/python3.11/dist-packages (from requests>=2.19->qiskit-ibm-runtime) (3.10)\n",
            "Requirement already satisfied: certifi>=2017.4.17 in /usr/local/lib/python3.11/dist-packages (from requests>=2.19->qiskit-ibm-runtime) (2025.1.31)\n",
            "Requirement already satisfied: cryptography>=1.3 in /usr/local/lib/python3.11/dist-packages (from requests-ntlm>=1.1.0->qiskit-ibm-runtime) (43.0.3)\n",
            "Requirement already satisfied: pyspnego>=0.4.0 in /usr/local/lib/python3.11/dist-packages (from requests-ntlm>=1.1.0->qiskit-ibm-runtime) (0.11.2)\n",
            "Requirement already satisfied: cffi>=1.12 in /usr/local/lib/python3.11/dist-packages (from cryptography>=1.3->requests-ntlm>=1.1.0->qiskit-ibm-runtime) (1.17.1)\n",
            "Requirement already satisfied: PyJWT<3.0.0,>=2.8.0 in /usr/local/lib/python3.11/dist-packages (from ibm_cloud_sdk_core<4.0.0,>=3.22.1->ibm-platform-services>=0.22.6->qiskit-ibm-runtime) (2.10.1)\n",
            "Requirement already satisfied: pbr>=2.0.0 in /usr/local/lib/python3.11/dist-packages (from stevedore>=3.0.0->qiskit>=1.4.1->qiskit-ibm-runtime) (6.1.1)\n",
            "Requirement already satisfied: mpmath<1.4,>=1.1.0 in /usr/local/lib/python3.11/dist-packages (from sympy>=1.3->qiskit>=1.4.1->qiskit-ibm-runtime) (1.3.0)\n",
            "Requirement already satisfied: pycparser in /usr/local/lib/python3.11/dist-packages (from cffi>=1.12->cryptography>=1.3->requests-ntlm>=1.1.0->qiskit-ibm-runtime) (2.22)\n",
            "Requirement already satisfied: setuptools in /usr/local/lib/python3.11/dist-packages (from pbr>=2.0.0->stevedore>=3.0.0->qiskit>=1.4.1->qiskit-ibm-runtime) (75.2.0)\n",
            "Requirement already satisfied: qiskit[visualization] in /usr/local/lib/python3.11/dist-packages (2.0.0)\n",
            "Requirement already satisfied: rustworkx>=0.15.0 in /usr/local/lib/python3.11/dist-packages (from qiskit[visualization]) (0.16.0)\n",
            "Requirement already satisfied: numpy<3,>=1.17 in /usr/local/lib/python3.11/dist-packages (from qiskit[visualization]) (2.0.2)\n",
            "Requirement already satisfied: scipy>=1.5 in /usr/local/lib/python3.11/dist-packages (from qiskit[visualization]) (1.14.1)\n",
            "Requirement already satisfied: sympy>=1.3 in /usr/local/lib/python3.11/dist-packages (from qiskit[visualization]) (1.13.1)\n",
            "Requirement already satisfied: dill>=0.3 in /usr/local/lib/python3.11/dist-packages (from qiskit[visualization]) (0.3.9)\n",
            "Requirement already satisfied: python-dateutil>=2.8.0 in /usr/local/lib/python3.11/dist-packages (from qiskit[visualization]) (2.8.2)\n",
            "Requirement already satisfied: stevedore>=3.0.0 in /usr/local/lib/python3.11/dist-packages (from qiskit[visualization]) (5.4.1)\n",
            "Requirement already satisfied: typing-extensions in /usr/local/lib/python3.11/dist-packages (from qiskit[visualization]) (4.13.1)\n",
            "Requirement already satisfied: symengine<0.14,>=0.11 in /usr/local/lib/python3.11/dist-packages (from qiskit[visualization]) (0.13.0)\n",
            "Requirement already satisfied: matplotlib>=3.3 in /usr/local/lib/python3.11/dist-packages (from qiskit[visualization]) (3.10.0)\n",
            "Requirement already satisfied: pydot in /usr/local/lib/python3.11/dist-packages (from qiskit[visualization]) (3.0.4)\n",
            "Requirement already satisfied: Pillow>=4.2.1 in /usr/local/lib/python3.11/dist-packages (from qiskit[visualization]) (11.1.0)\n",
            "Requirement already satisfied: pylatexenc>=1.4 in /usr/local/lib/python3.11/dist-packages (from qiskit[visualization]) (2.10)\n",
            "Requirement already satisfied: seaborn>=0.9.0 in /usr/local/lib/python3.11/dist-packages (from qiskit[visualization]) (0.13.2)\n",
            "Requirement already satisfied: contourpy>=1.0.1 in /usr/local/lib/python3.11/dist-packages (from matplotlib>=3.3->qiskit[visualization]) (1.3.1)\n",
            "Requirement already satisfied: cycler>=0.10 in /usr/local/lib/python3.11/dist-packages (from matplotlib>=3.3->qiskit[visualization]) (0.12.1)\n",
            "Requirement already satisfied: fonttools>=4.22.0 in /usr/local/lib/python3.11/dist-packages (from matplotlib>=3.3->qiskit[visualization]) (4.57.0)\n",
            "Requirement already satisfied: kiwisolver>=1.3.1 in /usr/local/lib/python3.11/dist-packages (from matplotlib>=3.3->qiskit[visualization]) (1.4.8)\n",
            "Requirement already satisfied: packaging>=20.0 in /usr/local/lib/python3.11/dist-packages (from matplotlib>=3.3->qiskit[visualization]) (24.2)\n",
            "Requirement already satisfied: pyparsing>=2.3.1 in /usr/local/lib/python3.11/dist-packages (from matplotlib>=3.3->qiskit[visualization]) (3.2.3)\n",
            "Requirement already satisfied: six>=1.5 in /usr/local/lib/python3.11/dist-packages (from python-dateutil>=2.8.0->qiskit[visualization]) (1.17.0)\n",
            "Requirement already satisfied: pandas>=1.2 in /usr/local/lib/python3.11/dist-packages (from seaborn>=0.9.0->qiskit[visualization]) (2.2.2)\n",
            "Requirement already satisfied: pbr>=2.0.0 in /usr/local/lib/python3.11/dist-packages (from stevedore>=3.0.0->qiskit[visualization]) (6.1.1)\n",
            "Requirement already satisfied: mpmath<1.4,>=1.1.0 in /usr/local/lib/python3.11/dist-packages (from sympy>=1.3->qiskit[visualization]) (1.3.0)\n",
            "Requirement already satisfied: pytz>=2020.1 in /usr/local/lib/python3.11/dist-packages (from pandas>=1.2->seaborn>=0.9.0->qiskit[visualization]) (2025.2)\n",
            "Requirement already satisfied: tzdata>=2022.7 in /usr/local/lib/python3.11/dist-packages (from pandas>=1.2->seaborn>=0.9.0->qiskit[visualization]) (2025.2)\n",
            "Requirement already satisfied: setuptools in /usr/local/lib/python3.11/dist-packages (from pbr>=2.0.0->stevedore>=3.0.0->qiskit[visualization]) (75.2.0)\n",
            "Requirement already satisfied: bluequbit in /usr/local/lib/python3.11/dist-packages (0.12.0b1)\n",
            "Requirement already satisfied: requests~=2.28 in /usr/local/lib/python3.11/dist-packages (from bluequbit) (2.32.3)\n",
            "Requirement already satisfied: python-dateutil~=2.8 in /usr/local/lib/python3.11/dist-packages (from bluequbit) (2.8.2)\n",
            "Requirement already satisfied: numpy>=1.21 in /usr/local/lib/python3.11/dist-packages (from bluequbit) (2.0.2)\n",
            "Requirement already satisfied: packaging in /usr/local/lib/python3.11/dist-packages (from bluequbit) (24.2)\n",
            "Requirement already satisfied: six>=1.5 in /usr/local/lib/python3.11/dist-packages (from python-dateutil~=2.8->bluequbit) (1.17.0)\n",
            "Requirement already satisfied: charset-normalizer<4,>=2 in /usr/local/lib/python3.11/dist-packages (from requests~=2.28->bluequbit) (3.4.1)\n",
            "Requirement already satisfied: idna<4,>=2.5 in /usr/local/lib/python3.11/dist-packages (from requests~=2.28->bluequbit) (3.10)\n",
            "Requirement already satisfied: urllib3<3,>=1.21.1 in /usr/local/lib/python3.11/dist-packages (from requests~=2.28->bluequbit) (2.3.0)\n",
            "Requirement already satisfied: certifi>=2017.4.17 in /usr/local/lib/python3.11/dist-packages (from requests~=2.28->bluequbit) (2025.1.31)\n"
          ]
        }
      ]
    },
    {
      "cell_type": "code",
      "source": [
        "!wget https://raw.githubusercontent.com/tekinalperen08/blue_qubit_2025/main/P3__sharp_peak.qasm\n",
        "!wget https://raw.githubusercontent.com/tekinalperen08/blue_qubit_2025/main/P4_golden_mountain.qasm\n",
        "!wget https://raw.githubusercontent.com/tekinalperen08/blue_qubit_2025/main/P5_granite_summit.qasm\n",
        "!wget https://raw.githubusercontent.com/tekinalperen08/blue_qubit_2025/main/P6_titan_pinnacle.qasm"
      ],
      "metadata": {
        "collapsed": true,
        "id": "nqU2xbMRxjyL",
        "outputId": "e870b97a-889d-49b6-e6c9-536623037f8d",
        "colab": {
          "base_uri": "https://localhost:8080/"
        }
      },
      "execution_count": 169,
      "outputs": [
        {
          "output_type": "stream",
          "name": "stdout",
          "text": [
            "--2025-04-13 00:10:22--  https://raw.githubusercontent.com/tekinalperen08/blue_qubit_2025/main/P3__sharp_peak.qasm\n",
            "Resolving raw.githubusercontent.com (raw.githubusercontent.com)... 185.199.111.133, 185.199.110.133, 185.199.108.133, ...\n",
            "Connecting to raw.githubusercontent.com (raw.githubusercontent.com)|185.199.111.133|:443... connected.\n",
            "HTTP request sent, awaiting response... 200 OK\n",
            "Length: 23974 (23K) [text/plain]\n",
            "Saving to: ‘P3__sharp_peak.qasm.2’\n",
            "\n",
            "P3__sharp_peak.qasm 100%[===================>]  23.41K  --.-KB/s    in 0.002s  \n",
            "\n",
            "2025-04-13 00:10:22 (11.7 MB/s) - ‘P3__sharp_peak.qasm.2’ saved [23974/23974]\n",
            "\n",
            "--2025-04-13 00:10:22--  https://raw.githubusercontent.com/tekinalperen08/blue_qubit_2025/main/P4_golden_mountain.qasm\n",
            "Resolving raw.githubusercontent.com (raw.githubusercontent.com)... 185.199.108.133, 185.199.109.133, 185.199.110.133, ...\n",
            "Connecting to raw.githubusercontent.com (raw.githubusercontent.com)|185.199.108.133|:443... connected.\n",
            "HTTP request sent, awaiting response... 200 OK\n",
            "Length: 619461 (605K) [text/plain]\n",
            "Saving to: ‘P4_golden_mountain.qasm.1’\n",
            "\n",
            "P4_golden_mountain. 100%[===================>] 604.94K  --.-KB/s    in 0.06s   \n",
            "\n",
            "2025-04-13 00:10:23 (10.4 MB/s) - ‘P4_golden_mountain.qasm.1’ saved [619461/619461]\n",
            "\n",
            "--2025-04-13 00:10:23--  https://raw.githubusercontent.com/tekinalperen08/blue_qubit_2025/main/P5_granite_summit.qasm\n",
            "Resolving raw.githubusercontent.com (raw.githubusercontent.com)... 185.199.108.133, 185.199.110.133, 185.199.109.133, ...\n",
            "Connecting to raw.githubusercontent.com (raw.githubusercontent.com)|185.199.108.133|:443... connected.\n",
            "HTTP request sent, awaiting response... 200 OK\n",
            "Length: 244113 (238K) [text/plain]\n",
            "Saving to: ‘P5_granite_summit.qasm.1’\n",
            "\n",
            "P5_granite_summit.q 100%[===================>] 238.39K  --.-KB/s    in 0.04s   \n",
            "\n",
            "2025-04-13 00:10:23 (6.12 MB/s) - ‘P5_granite_summit.qasm.1’ saved [244113/244113]\n",
            "\n",
            "--2025-04-13 00:10:23--  https://raw.githubusercontent.com/tekinalperen08/blue_qubit_2025/main/P6_titan_pinnacle.qasm\n",
            "Resolving raw.githubusercontent.com (raw.githubusercontent.com)... 185.199.108.133, 185.199.109.133, 185.199.110.133, ...\n",
            "Connecting to raw.githubusercontent.com (raw.githubusercontent.com)|185.199.108.133|:443... connected.\n",
            "HTTP request sent, awaiting response... 200 OK\n",
            "Length: 456507 (446K) [text/plain]\n",
            "Saving to: ‘P6_titan_pinnacle.qasm.1’\n",
            "\n",
            "P6_titan_pinnacle.q 100%[===================>] 445.81K  --.-KB/s    in 0.05s   \n",
            "\n",
            "2025-04-13 00:10:23 (8.76 MB/s) - ‘P6_titan_pinnacle.qasm.1’ saved [456507/456507]\n",
            "\n"
          ]
        }
      ]
    },
    {
      "cell_type": "code",
      "source": [
        "from qiskit import qasm, qasm2,qasm3\n",
        "from qiskit.circuit import QuantumCircuit, ClassicalRegister, Gate, library\n",
        "from qiskit.transpiler import generate_preset_pass_manager\n",
        "from qiskit_ibm_runtime import QiskitRuntimeService, Batch, SamplerV2 as Sampler\n",
        "import bluequbit\n",
        "\n",
        "import numpy as np\n",
        "from matplotlib import pyplot as plt"
      ],
      "metadata": {
        "collapsed": true,
        "id": "Pny490wsrAgk"
      },
      "execution_count": 170,
      "outputs": []
    },
    {
      "cell_type": "code",
      "source": [
        "backend_name= 'ibm_torino'\n",
        "\n",
        "service = QiskitRuntimeService(\n",
        "    channel=\"ibm_cloud\",\n",
        "    instance=\"\"# (your instance),\n",
        "    token=\"\", # (your API key),\n",
        ")\n",
        "\n",
        "backend = service.backend(backend_name)#,use_fractional_gates=True)"
      ],
      "metadata": {
        "id": "gEkr50sfrkVR"
      },
      "execution_count": 12,
      "outputs": []
    },
    {
      "cell_type": "code",
      "source": [
        "bq = bluequbit.init(\"kiOZkP58IdjEUN48K79qlUwnBnAfSrs0\")\n",
        "device = \"mps.cpu\""
      ],
      "metadata": {
        "id": "4Shj4TMorBDt",
        "outputId": "439a42a8-4203-47e1-90a1-3fe65b7b79f9",
        "colab": {
          "base_uri": "https://localhost:8080/"
        }
      },
      "execution_count": 21,
      "outputs": [
        {
          "output_type": "stream",
          "name": "stderr",
          "text": [
            "[BQ-PYTHON-SDK][WARNING] - Beta version 0.12.0b1 of BlueQubit Python SDK is being used.\n",
            "WARNING:bluequbit-python-sdk: - Beta version 0.12.0b1 of BlueQubit Python SDK is being used.\n"
          ]
        }
      ]
    },
    {
      "cell_type": "code",
      "source": [
        "circuit_3 = QuantumCircuit.from_qasm_file('P3__sharp_peak.qasm')"
      ],
      "metadata": {
        "id": "1CrtA_GWrK_3"
      },
      "execution_count": 23,
      "outputs": []
    },
    {
      "cell_type": "code",
      "source": [
        "result = bq.run(circuit_3, device=device) # device can also be 'cpu' or 'quantum'"
      ],
      "metadata": {
        "id": "g_mYtR57zB6k",
        "outputId": "7227566c-0543-49cc-b325-f676eece60ad",
        "colab": {
          "base_uri": "https://localhost:8080/"
        }
      },
      "execution_count": 24,
      "outputs": [
        {
          "output_type": "stream",
          "name": "stdout",
          "text": [
            "[BQ-PYTHON-SDK][INFO] - Submitted: Job ID: p0R6yGogYoMUBp4K, device: mps.cpu, run status: RUNNING, created on: 2025-04-12 16:22:08 UTC, estimated runtime: 100 ms, estimated cost: $0.00, num qubits: 44\n"
          ]
        },
        {
          "output_type": "stream",
          "name": "stderr",
          "text": [
            "INFO:bluequbit-python-sdk: - Submitted: Job ID: p0R6yGogYoMUBp4K, device: mps.cpu, run status: RUNNING, created on: 2025-04-12 16:22:08 UTC, estimated runtime: 100 ms, estimated cost: $0.00, num qubits: 44\n"
          ]
        }
      ]
    },
    {
      "cell_type": "code",
      "source": [
        "result.top_128_results"
      ],
      "metadata": {
        "collapsed": true,
        "id": "hddHiG5HzvhI",
        "outputId": "2e3c627b-89f1-406f-d7b0-3726b801fa98",
        "colab": {
          "base_uri": "https://localhost:8080/"
        }
      },
      "execution_count": 27,
      "outputs": [
        {
          "output_type": "execute_result",
          "data": {
            "text/plain": [
              "{'01001100111101010001101111001100010100011010': 1,\n",
              " '10000011111001010000011111001101100101100010': 1,\n",
              " '10000111010100100000011111001101000100011010': 2,\n",
              " '10000111010101010000011111001101000100011010': 7,\n",
              " '10000111010101010000100001001101000100011010': 1,\n",
              " '10000111010101010001110111001101000100011010': 2,\n",
              " '10000111110101010000011111001101000100011010': 2,\n",
              " '10001001010101010000011110010111000101100010': 1,\n",
              " '10001001010101010000111111001101000100011010': 2,\n",
              " '10001001010101011110001111001101000101100010': 1,\n",
              " '10001011010101010000011111001101000100011010': 2,\n",
              " '10001011010101010000011111010111000100011010': 1,\n",
              " '10001011101100010000011110111101000100011000': 1,\n",
              " '10001011101101001010011111001100011100011010': 1,\n",
              " '10001100011101010000011111001101000100011010': 1,\n",
              " '10001100100101010000011111001101000100011010': 3,\n",
              " '10001100111001010000011111001101000100011010': 2,\n",
              " '10001100111100100000001110111101000100011010': 1,\n",
              " '10001100111101010000011111001101000100011010': 4,\n",
              " '10001101001001010010011111110101000100011010': 1,\n",
              " '10001101010000110001101111001101000100011010': 1,\n",
              " '10001101010100010000010011001101000010011010': 1,\n",
              " '10001101010100010000011111001101000100011010': 4,\n",
              " '10001101010100100000000111001101000100000110': 1,\n",
              " '10001101010100100000001110111101000100010010': 1,\n",
              " '10001101010100100000001111001101000100011010': 2,\n",
              " '10001101010100100000011001001101000100011010': 1,\n",
              " '10001101010100100000011111001100101100011010': 2,\n",
              " '10001101010100100000011111001101000100011010': 15,\n",
              " '10001101010100100000011111001101010110111010': 1,\n",
              " '10001101010100100000011111001101100100011010': 1,\n",
              " '10001101010100100001010111001101000100011010': 2,\n",
              " '10001101010100100001101111001101000100011010': 2,\n",
              " '10001101010100111000011110111101000100011010': 1,\n",
              " '10001101010100111010011111001100010100011010': 1,\n",
              " '10001101010101001000001111001101000100011010': 1,\n",
              " '10001101010101001010011111000010111100011010': 1,\n",
              " '10001101010101001010011111001101000100011010': 6,\n",
              " '10001101010101010000001111001010000100011010': 2,\n",
              " '10001101010101010000001111001101000100011010': 7,\n",
              " '10001101010101010000010111001101000100011010': 3,\n",
              " '10001101010101010000011001001100011100011010': 1,\n",
              " '10001101010101010000011011001101000100011010': 2,\n",
              " '10001101010101010000011100101101000100011010': 2,\n",
              " '10001101010101010000011101101101000100011010': 6,\n",
              " '10001101010101010000011110100111000101010010': 1,\n",
              " '10001101010101010000011110111101000100011010': 2,\n",
              " '10001101010101010000011111000100000100011010': 1,\n",
              " '10001101010101010000011111000111000100011010': 2,\n",
              " '10001101010101010000011111001010000100011010': 3,\n",
              " '10001101010101010000011111001011100100011010': 2,\n",
              " '10001101010101010000011111001100010100011010': 7,\n",
              " '10001101010101010000011111001100010101010010': 1,\n",
              " '10001101010101010000011111001100011100011010': 3,\n",
              " '10001101010101010000011111001100101100011010': 2,\n",
              " '10001101010101010000011111001100111100011010': 6,\n",
              " '10001101010101010000011111001101000000011010': 2,\n",
              " '10001101010101010000011111001101000010011010': 4,\n",
              " '10001101010101010000011111001101000100000110': 2,\n",
              " '10001101010101010000011111001101000100011010': 98,\n",
              " '10001101010101010000011111001101000100011011': 3,\n",
              " '10001101010101010000011111001101000100011110': 1,\n",
              " '10001101010101010000011111001101000100011111': 1,\n",
              " '10001101010101010000011111001101000101000010': 2,\n",
              " '10001101010101010000011111001101000101010010': 2,\n",
              " '10001101010101010000011111001101000101100010': 5,\n",
              " '10001101010101010000011111001101001100011010': 2,\n",
              " '10001101010101010000011111001101111100011010': 2,\n",
              " '10001101010101010000011111001101111101000111': 1,\n",
              " '10001101010101010000011111001111010100011010': 1,\n",
              " '10001101010101010000011111010001000100011010': 2,\n",
              " '10001101010101010000011111010111000100011010': 2,\n",
              " '10001101010101010000100111001101000100011010': 2,\n",
              " '10001101010101010000110111001101000100011010': 2,\n",
              " '10001101010101010001001111001101000100011010': 4,\n",
              " '10001101010101010001010111001101000100011010': 7,\n",
              " '10001101010101010001010111001101111100011010': 2,\n",
              " '10001101010101010001101111001101000100011010': 6,\n",
              " '10001101010101010010011111001101000100011010': 5,\n",
              " '10001101010101010011111111001101000100011010': 5,\n",
              " '10001101010101010110000111011111000100011010': 1,\n",
              " '10001101010101010110011110111101000100011010': 1,\n",
              " '10001101010101010110111111001100000100011010': 1,\n",
              " '10001101010101011010011001001101000100011010': 2,\n",
              " '10001101010101011010011111001101000100011010': 5,\n",
              " '10001101010101011110011111001101000100011010': 2,\n",
              " '10001101010101100000011111001101000100011010': 3,\n",
              " '10001101010110100000011111101101000100011010': 1,\n",
              " '10001101010111000000011001001101000100011010': 3,\n",
              " '10001101010111000000011111000111000100011010': 1,\n",
              " '10001101010111000000011111001101000100011010': 5,\n",
              " '10001101010111000000011111001101000100011011': 1,\n",
              " '10001101010111000000100111001101111100011010': 1,\n",
              " '10001101011011111000010111001010000100011001': 1,\n",
              " '10001101101101010000011111001101000100011010': 2,\n",
              " '10001101110101010000011111001101000100011010': 2,\n",
              " '10001101111101010001101111001101000100011010': 1,\n",
              " '10001110001101010000011111001101000100011010': 1,\n",
              " '10001110110101010000011111001101101100011010': 1,\n",
              " '10001110110101011110011111001101000100011010': 1,\n",
              " '10001111110101010000011111001101000100011010': 2,\n",
              " '10001111110101110000011001001101000100011010': 1,\n",
              " '10010000111100100001010111001101110100011010': 1,\n",
              " '10010001010100110000011111001101000101100010': 1,\n",
              " '10010001010101010000011111001011000100101010': 1,\n",
              " '10010001010101010000011111001101000100011010': 5,\n",
              " '10010001010101010010011111001101000100011010': 1,\n",
              " '10010001010101010010111111001101000100011110': 1,\n",
              " '10010011010101010000011100101101000100011010': 1,\n",
              " '10100001010101010000011111001101000100011010': 2,\n",
              " '10100011110011101100011111001100010100011010': 1,\n",
              " '10100110010101010001101111001101000100011010': 1,\n",
              " '10101001010101010000001110111101000100011010': 1,\n",
              " '10110001010111000000011111001100110100011010': 1,\n",
              " '10110101010101010000011111001101100100011010': 1,\n",
              " '10111101010101010000011111001101000100011010': 5,\n",
              " '11000001010101010110011110101111000101000010': 1,\n",
              " '11001101101101100000011111000101111101100000': 1,\n",
              " '11100001010101010000011111001101000100011010': 2,\n",
              " '11100101010101010000011111001101000100011010': 3,\n",
              " '11101001010101010000011111001101000100011010': 3,\n",
              " '11101011010101010000001111001101000100111010': 1,\n",
              " '11101100010101010000011111001101000100011010': 1,\n",
              " '11101101010100100000011111001101000100011010': 2,\n",
              " '11101101010101010000011111001101000100011001': 1,\n",
              " '11101101010101010001111111001101000100011010': 1,\n",
              " '11110001010100100000011111001101000010011010': 1,\n",
              " '11110001010110100000011111001101000100010010': 1}"
            ]
          },
          "metadata": {},
          "execution_count": 27
        }
      ]
    },
    {
      "cell_type": "code",
      "source": [
        "circuit_4 = QuantumCircuit.from_qasm_file('P4_golden_mountain.qasm')\n",
        "device = \"mps.gpu\"\n",
        "if circuit_4.num_clbits < circuit_4.num_qubits:\n",
        "    cr = ClassicalRegister(circuit_4.num_qubits - circuit_4.num_clbits)\n",
        "    circuit_4.add_register(cr)\n",
        "\n",
        "# Her bir qubit'i karşılık gelen klasik bit'e ölç\n",
        "circuit_4.measure(range(circuit_4.num_qubits), range(circuit_4.num_qubits))\n",
        "\n",
        "\n",
        "estimate = bq.estimate(circuit_4, device=device)\n",
        "\n",
        "print(f\"Tahmini süre: {estimate.estimated_runtime} saniye\")\n",
        "print(f\"Tahmini maliyet: {estimate.estimated_cost} kredi\")"
      ],
      "metadata": {
        "id": "V-zPf1Ro0VoU",
        "outputId": "10be9280-b718-421d-934f-75871f132e82",
        "colab": {
          "base_uri": "https://localhost:8080/"
        }
      },
      "execution_count": 97,
      "outputs": [
        {
          "output_type": "stream",
          "name": "stdout",
          "text": [
            "Tahmini süre: 180000000 saniye\n",
            "Tahmini maliyet: 150.0 kredi\n"
          ]
        }
      ]
    },
    {
      "cell_type": "code",
      "source": [
        "result_4 = bq.run(circuit_4, device=device) # device can also be 'cpu' or 'quantum'"
      ],
      "metadata": {
        "id": "kiGFrVuT06lu",
        "outputId": "c4da4c4d-a549-4251-b333-96d0d1eba6c2",
        "colab": {
          "base_uri": "https://localhost:8080/",
          "height": 280
        }
      },
      "execution_count": 96,
      "outputs": [
        {
          "output_type": "error",
          "ename": "BQJobNotCompleteError",
          "evalue": "Job UjRluTpBUuPXHEFC finished with status: FAILED_VALIDATION. Circuit num qubits (48) is too high for GPU backend",
          "traceback": [
            "\u001b[0;31m---------------------------------------------------------------------------\u001b[0m",
            "\u001b[0;31mBQJobNotCompleteError\u001b[0m                     Traceback (most recent call last)",
            "\u001b[0;32m<ipython-input-96-816d67cd6516>\u001b[0m in \u001b[0;36m<cell line: 0>\u001b[0;34m()\u001b[0m\n\u001b[0;32m----> 1\u001b[0;31m \u001b[0mresult_4\u001b[0m \u001b[0;34m=\u001b[0m \u001b[0mbq\u001b[0m\u001b[0;34m.\u001b[0m\u001b[0mrun\u001b[0m\u001b[0;34m(\u001b[0m\u001b[0mcircuit_4\u001b[0m\u001b[0;34m,\u001b[0m \u001b[0mdevice\u001b[0m\u001b[0;34m=\u001b[0m\u001b[0mdevice\u001b[0m\u001b[0;34m)\u001b[0m \u001b[0;31m# device can also be 'cpu' or 'quantum'\u001b[0m\u001b[0;34m\u001b[0m\u001b[0;34m\u001b[0m\u001b[0m\n\u001b[0m",
            "\u001b[0;32m/usr/local/lib/python3.11/dist-packages/bluequbit/bluequbit_client.py\u001b[0m in \u001b[0;36mrun\u001b[0;34m(self, circuits, device, asynchronous, job_name, shots, pauli_sum, options)\u001b[0m\n\u001b[1;32m    293\u001b[0m             \u001b[0;32min\u001b[0m \u001b[0mjob_metadata_constants\u001b[0m\u001b[0;34m.\u001b[0m\u001b[0mJOB_NO_RESULT_TERMINAL_STATES\u001b[0m\u001b[0;34m\u001b[0m\u001b[0;34m\u001b[0m\u001b[0m\n\u001b[1;32m    294\u001b[0m         ):\n\u001b[0;32m--> 295\u001b[0;31m             raise BQJobNotCompleteError(\n\u001b[0m\u001b[1;32m    296\u001b[0m                 \u001b[0msubmitted_job\u001b[0m\u001b[0;34m.\u001b[0m\u001b[0mjob_id\u001b[0m\u001b[0;34m,\u001b[0m\u001b[0;34m\u001b[0m\u001b[0;34m\u001b[0m\u001b[0m\n\u001b[1;32m    297\u001b[0m                 \u001b[0msubmitted_job\u001b[0m\u001b[0;34m.\u001b[0m\u001b[0mrun_status\u001b[0m\u001b[0;34m,\u001b[0m\u001b[0;34m\u001b[0m\u001b[0;34m\u001b[0m\u001b[0m\n",
            "\u001b[0;31mBQJobNotCompleteError\u001b[0m: Job UjRluTpBUuPXHEFC finished with status: FAILED_VALIDATION. Circuit num qubits (48) is too high for GPU backend"
          ]
        }
      ]
    },
    {
      "cell_type": "code",
      "source": [
        "result_4.top_128_results"
      ],
      "metadata": {
        "collapsed": true,
        "id": "c2ozS03W1XyF",
        "outputId": "a487deb4-3b81-4150-be2e-677b3bad0769",
        "colab": {
          "base_uri": "https://localhost:8080/"
        }
      },
      "execution_count": 46,
      "outputs": [
        {
          "output_type": "execute_result",
          "data": {
            "text/plain": [
              "{'000000010110110011011101001110110011101100000000': 1,\n",
              " '000001010001011110001001111110111000011001100111': 1,\n",
              " '000001010101001111010010010101110111101111011010': 1,\n",
              " '000001111010100011011010100001100000001110011001': 1,\n",
              " '000010011010010111000011010110001101001010110001': 1,\n",
              " '000011010111111110101000011110101001001011100110': 1,\n",
              " '000011100100001100110000010001011000111101100110': 1,\n",
              " '000011110001001011110011110110110011100001001000': 1,\n",
              " '000100000011011100111111011011111111011101110000': 1,\n",
              " '000101011010011101011010110110110001110000101101': 1,\n",
              " '000101101010000000000100100001111111110010110111': 1,\n",
              " '000111000000011000011110100101000011110100100011': 1,\n",
              " '000111110111110010011101101110010110111101101111': 1,\n",
              " '000111111110110111011101000100000000101110100111': 1,\n",
              " '001000001000011110100100000011110111110011110110': 1,\n",
              " '001000001101001011000101100110000001000011110000': 1,\n",
              " '001001001011111011101001011101111110101010111100': 1,\n",
              " '001001101111111111010001011100111000110000010100': 1,\n",
              " '001001111010010010010011110010101100100100011111': 1,\n",
              " '001010001101001110110010010110010001001010100011': 1,\n",
              " '001011001010110100010101001111011101101000001111': 1,\n",
              " '001011011110011111100001110101000111111101111111': 1,\n",
              " '001011111000001111110000000010111001011001011001': 1,\n",
              " '001100001011010110000100011111010001100111100100': 1,\n",
              " '001101001110101000000101000001000001110000111010': 1,\n",
              " '001101011100101000101111100010010000111110100110': 1,\n",
              " '001101011111111100010001111010001010011011010111': 1,\n",
              " '001101111101010101111100111001011110100110111110': 1,\n",
              " '001110000101100000011100010011001011111011010011': 1,\n",
              " '001110111110011111000001100110001010100100101010': 1,\n",
              " '001111011000010001111011100101101100111011011100': 1,\n",
              " '001111101110011111011111011101011010000010110011': 1,\n",
              " '001111110101000100111000000111110110001010100111': 1,\n",
              " '010000010000110010110011011100000101110011100110': 1,\n",
              " '010000011001001100101100101001011001111110101000': 1,\n",
              " '010000111110111111010000011111000000000111010011': 1,\n",
              " '010001110101000010010000001000000001010010110100': 1,\n",
              " '010011010011010100010111001001001100101110000111': 1,\n",
              " '010011011000100100010100101001010111011011001111': 1,\n",
              " '010011101000111101001001010010011000110010110000': 1,\n",
              " '010011111011000000001010111100110100100111110110': 1,\n",
              " '010011111110110111010101110110100001010100100100': 1,\n",
              " '010100100001111100101011111011011101110010001101': 1,\n",
              " '010101010100001010001000101010001101101111000010': 1,\n",
              " '010111110101000100000000000111010100110110001111': 1,\n",
              " '011000010100110110010101111111100111000101001110': 1,\n",
              " '011000100011101100010001100000010010011000111010': 1,\n",
              " '011001011110110001011111100000101111111100000010': 1,\n",
              " '011010001001011001011001011110010010011000001001': 1,\n",
              " '011010001010111100100110111100011111110011010001': 1,\n",
              " '011010101011100000011100110010011010001010101011': 1,\n",
              " '011011000000100110010101000000000101101011100111': 1,\n",
              " '011011110101011000100100111010011111010101101010': 1,\n",
              " '011100001111100011110101110101100000100001010011': 1,\n",
              " '011100010100001010011011011001100001110010011101': 1,\n",
              " '011101011100110100000110001010111101111111001000': 1,\n",
              " '011101100010100101111100101110110011000100101111': 1,\n",
              " '011110011000000110010011101110010101100110001010': 1,\n",
              " '011110111101111110100101001101110111101111111100': 1,\n",
              " '011111011110001110111110111101001010011111111010': 1,\n",
              " '100000100111000011000110111011010101100001001001': 1,\n",
              " '100000101111011010111011001101111110100001111110': 1,\n",
              " '100001000110101101110000000001100111011101000001': 1,\n",
              " '100001001001110111010000011111001001011000101100': 1,\n",
              " '100001010010001010100111011011000011110001001111': 1,\n",
              " '100001010111011101011110011011110101101000100110': 1,\n",
              " '100001011101000111111001101010111110100111000011': 1,\n",
              " '100001101100101011111000011100111111111110101101': 1,\n",
              " '100011010001111111111101001011001111111110000111': 1,\n",
              " '100011010100111101010001111101110001111111001010': 1,\n",
              " '100011110101111101000111111001111110100011011100': 1,\n",
              " '100100000010111001100111101110000011100101010011': 1,\n",
              " '100100100100000100101101000110010011111100111001': 1,\n",
              " '100101110010010100101000011001101111101101111101': 1,\n",
              " '100111011110100011000001001110000010000001011100': 1,\n",
              " '100111111001011111110101011110001100010000101101': 1,\n",
              " '101000010110010101000011101110101010110010010100': 1,\n",
              " '101001100001110110100010000111100111000111100110': 1,\n",
              " '101001101011110011111010001111011101001110010001': 1,\n",
              " '101001110101110000111110000110001101100110100100': 1,\n",
              " '101010111111010011101111000001010100011111000110': 1,\n",
              " '101011000001111001111101101011101110011110100100': 1,\n",
              " '101011100011011111001101000111101110111010110100': 1,\n",
              " '101011100111010101010011011010001110111011110110': 1,\n",
              " '101011110111100101001100101011000000100100000110': 1,\n",
              " '101101011110111001000111111001101110000110011111': 1,\n",
              " '101101101011111110010000001100001011100011100010': 1,\n",
              " '101110011111000110100111010110111111100110000100': 1,\n",
              " '101110110101010100111001111111101101111100010100': 1,\n",
              " '101111011001101110011101000000111111110010110010': 1,\n",
              " '110000101111101110100100000011000101101001111110': 1,\n",
              " '110010001000000010000110000010100010111100011011': 1,\n",
              " '110011010111100100100010110011100010101110101011': 1,\n",
              " '110011100111010001100001111000000010100111001001': 1,\n",
              " '110101100111001010111010010001010101100000001011': 1,\n",
              " '110101101100001011111111111010111111110001010111': 1,\n",
              " '110110001001110001001110110100101000011011111011': 1,\n",
              " '110111101001100110011011011111000010100110101000': 1,\n",
              " '110111101010011011000010110001101111101111111001': 1,\n",
              " '110111101110110000001010000110011000110011101001': 1,\n",
              " '110111110100000100000010010100101110101010101001': 1,\n",
              " '111000111000010110101101010010100111101100100111': 1,\n",
              " '111001000110011111110100001011010110111101001011': 1,\n",
              " '111001011011101001110010001001010101001001110010': 1,\n",
              " '111010010101100101011010011111011001010011011011': 1,\n",
              " '111010101111011011001100110111001010111010000011': 1,\n",
              " '111011001110010011110100111100011111100110011101': 1,\n",
              " '111011101101010111100001010010011010111111000100': 1,\n",
              " '111011101110111111001111001111000000000101110111': 1,\n",
              " '111100001001011101111111111001111001100001011100': 1,\n",
              " '111100100010001101100111000011011010001101110001': 1,\n",
              " '111101010101010110111000111001000111110000011100': 1,\n",
              " '111101010101011011011101011001110101000001011111': 1,\n",
              " '111101011010011111000010011011101001100000111110': 1,\n",
              " '111101100100111100100000000010000110111011110010': 1,\n",
              " '111101101011010100101000111011001101001100110110': 1,\n",
              " '111101101101000011110101000000001100010110101000': 1,\n",
              " '111101110011111010101100001001111101011001011110': 1,\n",
              " '111101110100111000100010011011001111011010011010': 1,\n",
              " '111101110111101100001110000011111111111101010011': 1,\n",
              " '111101111111110111010111110000100101000111000011': 1,\n",
              " '111110000100001010011110011010110100110110111001': 1,\n",
              " '111110001000010000110011000001011101110010111111': 1,\n",
              " '111110110111111111110010001011100000010011100000': 1,\n",
              " '111111100100000101111101000111000000100110110011': 1,\n",
              " '111111110100101010101011100000111010111010110110': 1,\n",
              " '111111111100010001110011111001011110111111110110': 1,\n",
              " '111111111101110101011101110101010101110110101110': 1}"
            ]
          },
          "metadata": {},
          "execution_count": 46
        }
      ]
    },
    {
      "cell_type": "code",
      "source": [
        "circuit_4v2 = QuantumCircuit.from_qasm_file('kirpilmis_4_gpu.qasm')\n",
        "device = \"mps.cpu\"\n",
        "if circuit_4v2.num_clbits < circuit_4v2.num_qubits:\n",
        "    cr = ClassicalRegister(circuit_4v2.num_qubits - circuit_4v2.num_clbits)\n",
        "    circuit_4v2.add_register(cr)\n",
        "\n",
        "# Her bir qubit'i karşılık gelen klasik bit'e ölç\n",
        "circuit_4v2.measure(range(circuit_4v2.num_qubits), range(circuit_4v2.num_qubits))\n",
        "\n",
        "\n",
        "estimate = bq.estimate(circuit_4v2, device=device)\n",
        "\n",
        "print(f\"Tahmini süre: {estimate.estimated_runtime} saniye\")\n",
        "print(f\"Tahmini maliyet: {estimate.estimated_cost} kredi\")"
      ],
      "metadata": {
        "id": "DxRGVBPjEYRl",
        "outputId": "fb4ca916-8f58-4e95-9c85-a114cd48a76d",
        "colab": {
          "base_uri": "https://localhost:8080/"
        }
      },
      "execution_count": 61,
      "outputs": [
        {
          "output_type": "stream",
          "name": "stdout",
          "text": [
            "Tahmini süre: 100 saniye\n",
            "Tahmini maliyet: 0.0 kredi\n"
          ]
        }
      ]
    },
    {
      "cell_type": "code",
      "source": [
        "result_4v2 = bq.run(circuit_4v2, device=device, shots = 1000) # device can also be 'cpu' or 'quantum'"
      ],
      "metadata": {
        "id": "RBe72xIAEYad",
        "outputId": "70ac17ff-3d64-47a5-f33e-4052de86b414",
        "colab": {
          "base_uri": "https://localhost:8080/",
          "height": 341
        }
      },
      "execution_count": 62,
      "outputs": [
        {
          "output_type": "stream",
          "name": "stdout",
          "text": [
            "[BQ-PYTHON-SDK][INFO] - Submitted: Job ID: oFr7kHL9TWVMbfx1, device: mps.cpu, run status: PENDING, created on: 2025-04-12 17:45:46 UTC, estimated runtime: 100 ms, estimated cost: $0.00, num qubits: 48\n"
          ]
        },
        {
          "output_type": "stream",
          "name": "stderr",
          "text": [
            "INFO:bluequbit-python-sdk: - Submitted: Job ID: oFr7kHL9TWVMbfx1, device: mps.cpu, run status: PENDING, created on: 2025-04-12 17:45:46 UTC, estimated runtime: 100 ms, estimated cost: $0.00, num qubits: 48\n"
          ]
        },
        {
          "output_type": "error",
          "ename": "KeyboardInterrupt",
          "evalue": "",
          "traceback": [
            "\u001b[0;31m---------------------------------------------------------------------------\u001b[0m",
            "\u001b[0;31mKeyboardInterrupt\u001b[0m                         Traceback (most recent call last)",
            "\u001b[0;32m<ipython-input-62-2bb1a7c6863f>\u001b[0m in \u001b[0;36m<cell line: 0>\u001b[0;34m()\u001b[0m\n\u001b[0;32m----> 1\u001b[0;31m \u001b[0mresult_4v2\u001b[0m \u001b[0;34m=\u001b[0m \u001b[0mbq\u001b[0m\u001b[0;34m.\u001b[0m\u001b[0mrun\u001b[0m\u001b[0;34m(\u001b[0m\u001b[0mcircuit_4v2\u001b[0m\u001b[0;34m,\u001b[0m \u001b[0mdevice\u001b[0m\u001b[0;34m=\u001b[0m\u001b[0mdevice\u001b[0m\u001b[0;34m,\u001b[0m \u001b[0mshots\u001b[0m \u001b[0;34m=\u001b[0m \u001b[0;36m1000\u001b[0m\u001b[0;34m)\u001b[0m \u001b[0;31m# device can also be 'cpu' or 'quantum'\u001b[0m\u001b[0;34m\u001b[0m\u001b[0;34m\u001b[0m\u001b[0m\n\u001b[0m",
            "\u001b[0;32m/usr/local/lib/python3.11/dist-packages/bluequbit/bluequbit_client.py\u001b[0m in \u001b[0;36mrun\u001b[0;34m(self, circuits, device, asynchronous, job_name, shots, pauli_sum, options)\u001b[0m\n\u001b[1;32m    304\u001b[0m             \u001b[0;32mnot\u001b[0m \u001b[0;32min\u001b[0m \u001b[0mjob_metadata_constants\u001b[0m\u001b[0;34m.\u001b[0m\u001b[0mJOB_TERMINAL_STATES\u001b[0m\u001b[0;34m\u001b[0m\u001b[0;34m\u001b[0m\u001b[0m\n\u001b[1;32m    305\u001b[0m         ):\n\u001b[0;32m--> 306\u001b[0;31m             \u001b[0mjr\u001b[0m \u001b[0;34m=\u001b[0m \u001b[0mself\u001b[0m\u001b[0;34m.\u001b[0m\u001b[0mwait\u001b[0m\u001b[0;34m(\u001b[0m\u001b[0msubmitted_job\u001b[0m\u001b[0;34m.\u001b[0m\u001b[0mjob_id\u001b[0m\u001b[0;34m)\u001b[0m\u001b[0;34m\u001b[0m\u001b[0;34m\u001b[0m\u001b[0m\n\u001b[0m\u001b[1;32m    307\u001b[0m             \u001b[0mjr\u001b[0m\u001b[0;34m.\u001b[0m\u001b[0mcircuit\u001b[0m \u001b[0;34m=\u001b[0m \u001b[0mcircuits\u001b[0m  \u001b[0;31m# type: ignore[union-attr]\u001b[0m\u001b[0;34m\u001b[0m\u001b[0;34m\u001b[0m\u001b[0m\n\u001b[1;32m    308\u001b[0m             \u001b[0;32mreturn\u001b[0m \u001b[0mjr\u001b[0m\u001b[0;34m\u001b[0m\u001b[0;34m\u001b[0m\u001b[0m\n",
            "\u001b[0;32m/usr/local/lib/python3.11/dist-packages/bluequbit/bluequbit_client.py\u001b[0m in \u001b[0;36mwait\u001b[0;34m(self, job_ids)\u001b[0m\n\u001b[1;32m    353\u001b[0m             \u001b[0;32mif\u001b[0m \u001b[0mself\u001b[0m\u001b[0;34m.\u001b[0m\u001b[0m_check_all_in_terminal_states\u001b[0m\u001b[0;34m(\u001b[0m\u001b[0mjob_results\u001b[0m\u001b[0;34m)\u001b[0m\u001b[0;34m:\u001b[0m\u001b[0;34m\u001b[0m\u001b[0;34m\u001b[0m\u001b[0m\n\u001b[1;32m    354\u001b[0m                 \u001b[0;32mreturn\u001b[0m \u001b[0mjob_results\u001b[0m\u001b[0;34m\u001b[0m\u001b[0;34m\u001b[0m\u001b[0m\n\u001b[0;32m--> 355\u001b[0;31m             \u001b[0mtime\u001b[0m\u001b[0;34m.\u001b[0m\u001b[0msleep\u001b[0m\u001b[0;34m(\u001b[0m\u001b[0;36m1.0\u001b[0m\u001b[0;34m)\u001b[0m\u001b[0;34m\u001b[0m\u001b[0;34m\u001b[0m\u001b[0m\n\u001b[0m\u001b[1;32m    356\u001b[0m \u001b[0;34m\u001b[0m\u001b[0m\n\u001b[1;32m    357\u001b[0m     def get(\n",
            "\u001b[0;31mKeyboardInterrupt\u001b[0m: "
          ]
        }
      ]
    },
    {
      "cell_type": "code",
      "source": [
        "result_4v2.top_128_results"
      ],
      "metadata": {
        "id": "kNsUaaIvHui4"
      },
      "execution_count": null,
      "outputs": []
    },
    {
      "cell_type": "code",
      "source": [
        "circuit_4v3 = QuantumCircuit.from_qasm_file('kirpilmis_4_gpu.qasm')\n",
        "device = \"mps.gpu\"\n",
        "if circuit_4v3.num_clbits < circuit_4v3.num_qubits:\n",
        "    cr = ClassicalRegister(circuit_4v3.num_qubits - circuit_4v3.num_clbits)\n",
        "    circuit_4v3.add_register(cr)\n",
        "\n",
        "# Her bir qubit'i karşılık gelen klasik bit'e ölç\n",
        "circuit_4v3.measure(range(circuit_4v3.num_qubits), range(circuit_4v3.num_qubits))\n",
        "\n",
        "\n",
        "estimate = bq.estimate(circuit_4v3, device=device)\n",
        "\n",
        "print(f\"Tahmini süre: {estimate.estimated_runtime} saniye\")\n",
        "print(f\"Tahmini maliyet: {estimate.estimated_cost} kredi\")"
      ],
      "metadata": {
        "id": "jhK9m0YhHusu",
        "outputId": "53df219e-e251-4515-91bb-2572c08cc845",
        "colab": {
          "base_uri": "https://localhost:8080/"
        }
      },
      "execution_count": 63,
      "outputs": [
        {
          "output_type": "stream",
          "name": "stdout",
          "text": [
            "Tahmini süre: 180000000 saniye\n",
            "Tahmini maliyet: 150.0 kredi\n"
          ]
        }
      ]
    },
    {
      "cell_type": "code",
      "source": [
        "result_4v3 = bq.run(circuit_4v3, device=device, shots = 1000) # device can also be 'cpu' or 'quantum'"
      ],
      "metadata": {
        "id": "4SmPqpG1Huxm"
      },
      "execution_count": null,
      "outputs": []
    },
    {
      "cell_type": "code",
      "source": [
        "result_4v3.top_128_results"
      ],
      "metadata": {
        "id": "SxpRVqc9Edy3"
      },
      "execution_count": null,
      "outputs": []
    },
    {
      "cell_type": "code",
      "source": [
        "from qiskit_ibm_runtime import QiskitRuntimeService\n",
        "\n",
        "\n",
        "\n",
        "from qiskit import qasm, qasm2,qasm3, transpile\n",
        "from qiskit.circuit import QuantumCircuit, ClassicalRegister, Gate, library\n",
        "from qiskit.transpiler import generate_preset_pass_manager, PassManager, InstructionDurations\n",
        "from qiskit_ibm_runtime import SamplerOptions, QiskitRuntimeService, Batch, SamplerV2 as Sampler\n",
        "from qiskit.transpiler.passes import PadDynamicalDecoupling, ALAPScheduleAnalysis, ConstrainedReschedule\n",
        "from qiskit.circuit.library import XGate, YGate\n",
        "import numpy as np\n",
        "from matplotlib import pyplot as plt\n",
        "## https://github.com/Qiskit/qiskit-ibm-runtime/blob/main/README.md\n",
        "\n",
        "\n",
        "# We have to instantiate the QiskitRuntimeService in order to access the deivce\n",
        "# With the devices available to use, we have to pick one where we want to run the circuit on.\n",
        "backend_name= 'ibm_brisbane'\n",
        "\n",
        "# Sadece ilk seferlik\n",
        "# QiskitRuntimeService.save_account(\n",
        "#     channel='ibm_quantum',\n",
        "#     instance='ibm-q/open/main',\n",
        "#     token='9e08e8aa719f6cb0ba23c50552001b4de2bc9f97d281c53d94c39af14bc6f589ac40aa46573e8412a9b70252b61c3ac26872645455b04a6684a01ed82ea7dbb1'  # kendi API key’in\n",
        "# )\n",
        "\n",
        "# def merge_u3(circuit):\n",
        "#     new_circuit = QuantumCircuit(*circuit.qregs)\n",
        "#     last_u3 = {q: None for q in circuit.qubits}\n",
        "#     for inst, qargs, cargs in circuit.data:\n",
        "#         q = qargs[0]\n",
        "#         if inst.name == \"u3\" and last_u3[q] is not None:\n",
        "#             last_theta, last_phi, last_lam = last_u3[q]\n",
        "#             new_theta, new_phi, new_lam = inst.params\n",
        "#             # Operatörleri birleştir\n",
        "#             op1 = Operator.from_label(\"u3\").exp_i(last_theta, last_phi, last_lam)\n",
        "#             op2 = Operator.from_label(\"u3\").exp_i(new_theta, new_phi, new_lam)\n",
        "#             combined_op = op1.compose(op2)\n",
        "#             # Yeni u3 parametrelerini hesapla (basitleştirilmiş)\n",
        "#             new_circuit.u3(*combined_op.to_instruction().params, q)\n",
        "#             last_u3[q] = None\n",
        "#         elif inst.name == \"u3\":\n",
        "#             last_u3[q] = inst.params\n",
        "#             new_circuit.append(inst, qargs, cargs)\n",
        "#         else:\n",
        "#             for q in circuit.qubits:\n",
        "#                 last_u3[q] = None\n",
        "#             new_circuit.append(inst, qargs, cargs)\n",
        "#     return new_circuit\n",
        "\n",
        "\n",
        "\n",
        "\n",
        "backend = service.backend(backend_name,use_fractional_gates=True)\n",
        "basis_gate_set = backend.configuration().basis_gates\n"
      ],
      "metadata": {
        "id": "EZzSV9WYJGLJ"
      },
      "execution_count": 193,
      "outputs": []
    },
    {
      "cell_type": "code",
      "source": [
        "from qiskit_ibm_runtime import QiskitRuntimeService\n",
        "\n",
        "service = QiskitRuntimeService()\n",
        "\n",
        "print(\"Kullanılabilir backendlere erişiliyor...\\n\")\n",
        "\n",
        "for backend in service.backends():\n",
        "    stat = backend.status()\n",
        "    print(f\"{backend.name:<20} | operational: {stat.operational:<5} | pending jobs: {stat.pending_jobs:<4} | msg: {stat.status_msg}\")"
      ],
      "metadata": {
        "id": "kAas6fsRJGQx",
        "outputId": "200fcea2-3609-4564-c148-7bd2284732fe",
        "colab": {
          "base_uri": "https://localhost:8080/"
        }
      },
      "execution_count": 180,
      "outputs": [
        {
          "output_type": "stream",
          "name": "stdout",
          "text": [
            "Kullanılabilir backendlere erişiliyor...\n",
            "\n",
            "ibm_brisbane         | operational: 1     | pending jobs: 8    | msg: active\n",
            "ibm_sherbrooke       | operational: 1     | pending jobs: 12   | msg: active\n",
            "ibm_kyiv             | operational: 1     | pending jobs: 6    | msg: active\n"
          ]
        }
      ]
    },
    {
      "cell_type": "code",
      "source": [
        "circuit = QuantumCircuit.from_qasm_file('P4_golden_mountain.qasm')\n",
        "\n",
        "## In case qasm instructions do not contain measurement instructions, we can add them here\n",
        "circuit.measure_all()\n",
        "print(\"Original circuit: \", circuit.count_ops())\n",
        "\n",
        "optimized_circuit = transpile(circuit, backend=backend, optimization_level=1)"
      ],
      "metadata": {
        "id": "eyoRMikJJGWx",
        "outputId": "6b0c629c-1919-4b6a-afa1-acb576206e05",
        "colab": {
          "base_uri": "https://localhost:8080/"
        }
      },
      "execution_count": 194,
      "outputs": [
        {
          "output_type": "stream",
          "name": "stdout",
          "text": [
            "Original circuit:  OrderedDict([('u3', 10240), ('cz', 5096), ('measure', 48), ('barrier', 1)])\n"
          ]
        }
      ]
    },
    {
      "cell_type": "code",
      "source": [
        "# DD ve scheduling için PassManager kullan\n",
        "durations = InstructionDurations.from_backend(backend)\n",
        "dt = backend.configuration().dt\n",
        "\n",
        "pm = PassManager([\n",
        "    ALAPScheduleAnalysis(durations = durations),\n",
        "    ConstrainedReschedule(target = backend.target),\n",
        "    PadDynamicalDecoupling(durations = durations,\n",
        "                           dd_sequence=[XGate(), XGate()])\n",
        "])\n",
        "pm.property_set[\"instruction_durations\"] = durations\n",
        "pm.property_set[\"dt\"] = dt\n",
        "\n",
        "# Bu pass'leri devreye uygula\n",
        "final_circuit = pm.run(optimized_circuit)\n",
        "\n",
        "# Sonuçları karşılaştır\n",
        "print(\"Before transpile:\", circuit.count_ops())\n",
        "print(\"After transpile:\", optimized_circuit.count_ops())\n",
        "print(\"After DD:\", final_circuit.count_ops())"
      ],
      "metadata": {
        "id": "k-ShkjMV15S1",
        "outputId": "0f1e7bbc-0d36-40fc-b0b8-dbc54a44dbc2",
        "colab": {
          "base_uri": "https://localhost:8080/"
        }
      },
      "execution_count": 162,
      "outputs": [
        {
          "output_type": "stream",
          "name": "stdout",
          "text": [
            "Before transpile: OrderedDict([('u3', 10240), ('cz', 5096), ('measure', 48), ('barrier', 1)])\n",
            "After transpile: OrderedDict([('rz', 25526), ('sx', 20392), ('ecr', 5086), ('measure', 48), ('barrier', 1)])\n",
            "After DD: OrderedDict([('rz', 25526), ('sx', 20392), ('ecr', 5086), ('delay', 1167), ('measure', 48), ('x', 4), ('barrier', 1)])\n"
          ]
        }
      ]
    },
    {
      "cell_type": "code",
      "source": [
        "## We have to transpile the circuits to a physical device, device connectivy, basis gate set etc.\n",
        "## For more details see: https://docs.quantum.ibm.com/api/qiskit/transpiler\n",
        "optimization_level = 3\n",
        "pm = generate_preset_pass_manager(optimization_level,\n",
        "                                  backend=backend)\n",
        "\n",
        "tp_circuit = pm.run(circuit)\n",
        "\n",
        "print(tp_circuit.count_ops())\n",
        "# tp_circuit.draw('mpl', fold=-1, idle_wires=False)"
      ],
      "metadata": {
        "id": "p4hXaTsYLo7M",
        "outputId": "566562a3-0b15-4f50-aebe-b67e0617bb65",
        "colab": {
          "base_uri": "https://localhost:8080/"
        }
      },
      "execution_count": 86,
      "outputs": [
        {
          "output_type": "stream",
          "name": "stdout",
          "text": [
            "OrderedDict([('rz', 25526), ('sx', 20392), ('ecr', 5086), ('measure', 48), ('barrier', 1)])\n"
          ]
        }
      ]
    },
    {
      "cell_type": "code",
      "source": [
        "options = SamplerOptions(default_shots = 10000)\n",
        "options.dynamical_decoupling.enable = True\n",
        "options.dynamical_decoupling.sequence_type = \"XY4\"\n",
        "options.dynamical_decoupling.extra_slack_distribution = \"middle\"\n",
        "options.dynamical_decoupling.scheduling_method = \"alap\"\n",
        "\n",
        "options.twirling.enable_gates = True\n",
        "options.twirling.enable_measure = True\n",
        "options.twirling.num_randomizations = 'auto'\n",
        "options.twirling.shots_per_randomization = \"auto\"\n",
        "options.twirling.strategy = \"active-accum\"\n",
        "\n",
        "\n",
        "\n",
        "\n",
        "sampler = Sampler(backend, options=options)\n",
        "\n",
        "## In sampler we run pubs, which is a collection/list of circuits or tuples of circuits and parameters: https://docs.quantum.ibm.com/api/qiskit/qiskit.primitives.BackendSamplerV2\n",
        "job = sampler.run([optimized_circuit])\n",
        "print(job.job_id())"
      ],
      "metadata": {
        "id": "LXqxlo3ZOvnR",
        "outputId": "29d2c754-0ed1-4bdb-d1c8-2e183cc175a3",
        "colab": {
          "base_uri": "https://localhost:8080/"
        }
      },
      "execution_count": 195,
      "outputs": [
        {
          "output_type": "stream",
          "name": "stdout",
          "text": [
            "czxhx54nhqag008tn7d0\n"
          ]
        }
      ]
    },
    {
      "cell_type": "code",
      "source": [
        "job = service.job('czxhx54nhqag008tn7d0')\n",
        "counts = job.result()[0].data.meas.get_counts()\n",
        "\n",
        "## we sort the count dictionary from highest count to lowest\n",
        "sorted_cts_dict={k: v for k, v in sorted(counts.items(), key=lambda item: item[1], reverse=True)}"
      ],
      "metadata": {
        "id": "MbMcWJa1OzwL"
      },
      "execution_count": 196,
      "outputs": []
    },
    {
      "cell_type": "code",
      "source": [
        "from qiskit import QuantumCircuit, transpile\n",
        "from qiskit_ibm_runtime import QiskitRuntimeService\n",
        "from qiskit.transpiler import PassManager\n",
        "from qiskit.transpiler.passes import DynamicalDecoupling, ALAPSchedule, RemoveBarriers\n",
        "\n",
        "# 💡 QASM dosyasını yükle\n",
        "qc = QuantumCircuit.from_qasm_file(\"P4_golden_mountain.qasm\")\n",
        "\n",
        "# 🔐 Ölçüm yoksa ekle\n",
        "if not qc.count_ops().get(\"measure\"):\n",
        "    qc.measure_all()\n",
        "\n",
        "# 🧠 Runtime servisine bağlan\n",
        "service = QiskitRuntimeService(channel=\"ibm_cloud\")\n",
        "backend = service.backend(\"ibm_brisbane\")\n",
        "\n",
        "# 🔧 Transpile + Schedule\n",
        "transpiled = transpile(qc, backend=backend, optimization_level=1, scheduling_method=\"alap\")\n",
        "\n",
        "# 🌀 Dynamical Decoupling için passmanager\n",
        "dd_sequence = ['X', 'Y', 'X', 'Y']\n",
        "inst_durations = backend.properties().instruction_durations()\n",
        "pm = PassManager()\n",
        "pm.append(RemoveBarriers())\n",
        "pm.append(ALAPSchedule(inst_durations))\n",
        "pm.append(DynamicalDecoupling(inst_durations, dd_sequence))\n",
        "dd_circuit = pm.run(transpiled)\n",
        "\n",
        "# ▶️ Çalıştır\n",
        "job = backend.run(dd_circuit, shots=1024)\n",
        "print(\"Gönderildi. Job ID:\", job.job_id())\n"
      ],
      "metadata": {
        "collapsed": true,
        "id": "Yt_voDLu2SBB",
        "outputId": "a9377b4f-d0e8-42e9-94b7-3ee275aecaae",
        "colab": {
          "base_uri": "https://localhost:8080/",
          "height": 401
        }
      },
      "execution_count": 187,
      "outputs": [
        {
          "output_type": "error",
          "ename": "ImportError",
          "evalue": "cannot import name 'DynamicalDecoupling' from 'qiskit.transpiler.passes' (/usr/local/lib/python3.11/dist-packages/qiskit/transpiler/passes/__init__.py)",
          "traceback": [
            "\u001b[0;31m---------------------------------------------------------------------------\u001b[0m",
            "\u001b[0;31mImportError\u001b[0m                               Traceback (most recent call last)",
            "\u001b[0;32m<ipython-input-187-60636e9e84b9>\u001b[0m in \u001b[0;36m<cell line: 0>\u001b[0;34m()\u001b[0m\n\u001b[1;32m      2\u001b[0m \u001b[0;32mfrom\u001b[0m \u001b[0mqiskit_ibm_runtime\u001b[0m \u001b[0;32mimport\u001b[0m \u001b[0mQiskitRuntimeService\u001b[0m\u001b[0;34m\u001b[0m\u001b[0;34m\u001b[0m\u001b[0m\n\u001b[1;32m      3\u001b[0m \u001b[0;32mfrom\u001b[0m \u001b[0mqiskit\u001b[0m\u001b[0;34m.\u001b[0m\u001b[0mtranspiler\u001b[0m \u001b[0;32mimport\u001b[0m \u001b[0mPassManager\u001b[0m\u001b[0;34m\u001b[0m\u001b[0;34m\u001b[0m\u001b[0m\n\u001b[0;32m----> 4\u001b[0;31m \u001b[0;32mfrom\u001b[0m \u001b[0mqiskit\u001b[0m\u001b[0;34m.\u001b[0m\u001b[0mtranspiler\u001b[0m\u001b[0;34m.\u001b[0m\u001b[0mpasses\u001b[0m \u001b[0;32mimport\u001b[0m \u001b[0mDynamicalDecoupling\u001b[0m\u001b[0;34m,\u001b[0m \u001b[0mALAPSchedule\u001b[0m\u001b[0;34m,\u001b[0m \u001b[0mRemoveBarriers\u001b[0m\u001b[0;34m\u001b[0m\u001b[0;34m\u001b[0m\u001b[0m\n\u001b[0m\u001b[1;32m      5\u001b[0m \u001b[0;34m\u001b[0m\u001b[0m\n\u001b[1;32m      6\u001b[0m \u001b[0;31m# 💡 QASM dosyasını yükle\u001b[0m\u001b[0;34m\u001b[0m\u001b[0;34m\u001b[0m\u001b[0m\n",
            "\u001b[0;31mImportError\u001b[0m: cannot import name 'DynamicalDecoupling' from 'qiskit.transpiler.passes' (/usr/local/lib/python3.11/dist-packages/qiskit/transpiler/passes/__init__.py)",
            "",
            "\u001b[0;31m---------------------------------------------------------------------------\u001b[0;32m\nNOTE: If your import is failing due to a missing package, you can\nmanually install dependencies using either !pip or !apt.\n\nTo view examples of installing some common dependencies, click the\n\"Open Examples\" button below.\n\u001b[0;31m---------------------------------------------------------------------------\u001b[0m\n"
          ],
          "errorDetails": {
            "actions": [
              {
                "action": "open_url",
                "actionText": "Open Examples",
                "url": "/notebooks/snippets/importing_libraries.ipynb"
              }
            ]
          }
        }
      ]
    },
    {
      "cell_type": "code",
      "source": [
        "import json\n",
        "\n",
        "with open('job_counts_4_brisbane2.txt', 'w') as file:\n",
        "     file.write(json.dumps(counts)) # use `json.loads` to do the reverse"
      ],
      "metadata": {
        "id": "Y5HMBWi2PPeJ"
      },
      "execution_count": 197,
      "outputs": []
    },
    {
      "cell_type": "code",
      "source": [
        "circuit_5 = QuantumCircuit.from_qasm_file('P5_granite_summit.qasm')\n",
        "device = \"quantum\"\n",
        "if circuit_5.num_clbits < circuit_5.num_qubits:\n",
        "    cr = ClassicalRegister(circuit_5.num_qubits - circuit_5.num_clbits)\n",
        "    circuit_5.add_register(cr)\n",
        "\n",
        "# Her bir qubit'i karşılık gelen klasik bit'e ölç\n",
        "circuit_5.measure(range(circuit_5.num_qubits), range(circuit_5.num_qubits))\n",
        "\n",
        "\n",
        "estimate = bq.estimate(circuit_5, device=\"quantum\")\n",
        "\n",
        "print(f\"Tahmini süre: {estimate.estimated_runtime} saniye\")\n",
        "print(f\"Tahmini maliyet: {estimate.estimated_cost} kredi\")"
      ],
      "metadata": {
        "id": "3zmlm5c94Pc6",
        "outputId": "0fee1c82-3af8-4bb9-9ef7-6955c3707218",
        "colab": {
          "base_uri": "https://localhost:8080/"
        }
      },
      "execution_count": 115,
      "outputs": [
        {
          "output_type": "stream",
          "name": "stdout",
          "text": [
            "Tahmini süre: 1 saniye\n",
            "Tahmini maliyet: 1.2 kredi\n"
          ]
        }
      ]
    },
    {
      "cell_type": "code",
      "source": [
        "result_5 = bq.run(circuit_5, device=device, shots = 2000) # device can also be 'cpu' or 'quantum'"
      ],
      "metadata": {
        "id": "dXNKYg2rYcMi",
        "outputId": "1abdfe92-2af6-496f-a79f-2af07b6a6cc6",
        "colab": {
          "base_uri": "https://localhost:8080/",
          "height": 341
        }
      },
      "execution_count": 116,
      "outputs": [
        {
          "output_type": "stream",
          "name": "stdout",
          "text": [
            "[BQ-PYTHON-SDK][INFO] - Submitted: Job ID: TvWHbf0oIpXEalHS, device: quantum, run status: PENDING, created on: 2025-04-12 19:43:40 UTC, estimated runtime: 1 ms, estimated cost: $2.10, num qubits: 44\n"
          ]
        },
        {
          "output_type": "stream",
          "name": "stderr",
          "text": [
            "INFO:bluequbit-python-sdk: - Submitted: Job ID: TvWHbf0oIpXEalHS, device: quantum, run status: PENDING, created on: 2025-04-12 19:43:40 UTC, estimated runtime: 1 ms, estimated cost: $2.10, num qubits: 44\n"
          ]
        },
        {
          "output_type": "error",
          "ename": "BQJobNotCompleteError",
          "evalue": "Job TvWHbf0oIpXEalHS finished with status: CANCELED. None",
          "traceback": [
            "\u001b[0;31m---------------------------------------------------------------------------\u001b[0m",
            "\u001b[0;31mBQJobNotCompleteError\u001b[0m                     Traceback (most recent call last)",
            "\u001b[0;32m<ipython-input-116-7006fea825ab>\u001b[0m in \u001b[0;36m<cell line: 0>\u001b[0;34m()\u001b[0m\n\u001b[0;32m----> 1\u001b[0;31m \u001b[0mresult_5\u001b[0m \u001b[0;34m=\u001b[0m \u001b[0mbq\u001b[0m\u001b[0;34m.\u001b[0m\u001b[0mrun\u001b[0m\u001b[0;34m(\u001b[0m\u001b[0mcircuit_5\u001b[0m\u001b[0;34m,\u001b[0m \u001b[0mdevice\u001b[0m\u001b[0;34m=\u001b[0m\u001b[0mdevice\u001b[0m\u001b[0;34m,\u001b[0m \u001b[0mshots\u001b[0m \u001b[0;34m=\u001b[0m \u001b[0;36m2000\u001b[0m\u001b[0;34m)\u001b[0m \u001b[0;31m# device can also be 'cpu' or 'quantum'\u001b[0m\u001b[0;34m\u001b[0m\u001b[0;34m\u001b[0m\u001b[0m\n\u001b[0m",
            "\u001b[0;32m/usr/local/lib/python3.11/dist-packages/bluequbit/bluequbit_client.py\u001b[0m in \u001b[0;36mrun\u001b[0;34m(self, circuits, device, asynchronous, job_name, shots, pauli_sum, options)\u001b[0m\n\u001b[1;32m    304\u001b[0m             \u001b[0;32mnot\u001b[0m \u001b[0;32min\u001b[0m \u001b[0mjob_metadata_constants\u001b[0m\u001b[0;34m.\u001b[0m\u001b[0mJOB_TERMINAL_STATES\u001b[0m\u001b[0;34m\u001b[0m\u001b[0;34m\u001b[0m\u001b[0m\n\u001b[1;32m    305\u001b[0m         ):\n\u001b[0;32m--> 306\u001b[0;31m             \u001b[0mjr\u001b[0m \u001b[0;34m=\u001b[0m \u001b[0mself\u001b[0m\u001b[0;34m.\u001b[0m\u001b[0mwait\u001b[0m\u001b[0;34m(\u001b[0m\u001b[0msubmitted_job\u001b[0m\u001b[0;34m.\u001b[0m\u001b[0mjob_id\u001b[0m\u001b[0;34m)\u001b[0m\u001b[0;34m\u001b[0m\u001b[0;34m\u001b[0m\u001b[0m\n\u001b[0m\u001b[1;32m    307\u001b[0m             \u001b[0mjr\u001b[0m\u001b[0;34m.\u001b[0m\u001b[0mcircuit\u001b[0m \u001b[0;34m=\u001b[0m \u001b[0mcircuits\u001b[0m  \u001b[0;31m# type: ignore[union-attr]\u001b[0m\u001b[0;34m\u001b[0m\u001b[0;34m\u001b[0m\u001b[0m\n\u001b[1;32m    308\u001b[0m             \u001b[0;32mreturn\u001b[0m \u001b[0mjr\u001b[0m\u001b[0;34m\u001b[0m\u001b[0;34m\u001b[0m\u001b[0m\n",
            "\u001b[0;32m/usr/local/lib/python3.11/dist-packages/bluequbit/bluequbit_client.py\u001b[0m in \u001b[0;36mwait\u001b[0;34m(self, job_ids)\u001b[0m\n\u001b[1;32m    351\u001b[0m         \u001b[0;32mwhile\u001b[0m \u001b[0;32mTrue\u001b[0m\u001b[0;34m:\u001b[0m\u001b[0;34m\u001b[0m\u001b[0;34m\u001b[0m\u001b[0m\n\u001b[1;32m    352\u001b[0m             \u001b[0mjob_results\u001b[0m \u001b[0;34m=\u001b[0m \u001b[0mself\u001b[0m\u001b[0;34m.\u001b[0m\u001b[0m_get\u001b[0m\u001b[0;34m(\u001b[0m\u001b[0mjob_ids\u001b[0m\u001b[0;34m,\u001b[0m \u001b[0mneed_qc_unprocessed\u001b[0m\u001b[0;34m=\u001b[0m\u001b[0;32mFalse\u001b[0m\u001b[0;34m)\u001b[0m\u001b[0;34m\u001b[0m\u001b[0;34m\u001b[0m\u001b[0m\n\u001b[0;32m--> 353\u001b[0;31m             \u001b[0;32mif\u001b[0m \u001b[0mself\u001b[0m\u001b[0;34m.\u001b[0m\u001b[0m_check_all_in_terminal_states\u001b[0m\u001b[0;34m(\u001b[0m\u001b[0mjob_results\u001b[0m\u001b[0;34m)\u001b[0m\u001b[0;34m:\u001b[0m\u001b[0;34m\u001b[0m\u001b[0;34m\u001b[0m\u001b[0m\n\u001b[0m\u001b[1;32m    354\u001b[0m                 \u001b[0;32mreturn\u001b[0m \u001b[0mjob_results\u001b[0m\u001b[0;34m\u001b[0m\u001b[0;34m\u001b[0m\u001b[0m\n\u001b[1;32m    355\u001b[0m             \u001b[0mtime\u001b[0m\u001b[0;34m.\u001b[0m\u001b[0msleep\u001b[0m\u001b[0;34m(\u001b[0m\u001b[0;36m1.0\u001b[0m\u001b[0;34m)\u001b[0m\u001b[0;34m\u001b[0m\u001b[0;34m\u001b[0m\u001b[0m\n",
            "\u001b[0;32m/usr/local/lib/python3.11/dist-packages/bluequbit/bluequbit_client.py\u001b[0m in \u001b[0;36m_check_all_in_terminal_states\u001b[0;34m(job_results)\u001b[0m\n\u001b[1;32m    317\u001b[0m                 \u001b[0;32min\u001b[0m \u001b[0mjob_metadata_constants\u001b[0m\u001b[0;34m.\u001b[0m\u001b[0mJOB_NO_RESULT_TERMINAL_STATES\u001b[0m\u001b[0;34m\u001b[0m\u001b[0;34m\u001b[0m\u001b[0m\n\u001b[1;32m    318\u001b[0m             ):\n\u001b[0;32m--> 319\u001b[0;31m                 raise BQJobNotCompleteError(\n\u001b[0m\u001b[1;32m    320\u001b[0m                     \u001b[0mjob_results\u001b[0m\u001b[0;34m.\u001b[0m\u001b[0mjob_id\u001b[0m\u001b[0;34m,\u001b[0m\u001b[0;34m\u001b[0m\u001b[0;34m\u001b[0m\u001b[0m\n\u001b[1;32m    321\u001b[0m                     \u001b[0mjob_results\u001b[0m\u001b[0;34m.\u001b[0m\u001b[0mrun_status\u001b[0m\u001b[0;34m,\u001b[0m\u001b[0;34m\u001b[0m\u001b[0;34m\u001b[0m\u001b[0m\n",
            "\u001b[0;31mBQJobNotCompleteError\u001b[0m: Job TvWHbf0oIpXEalHS finished with status: CANCELED. None"
          ]
        }
      ]
    },
    {
      "cell_type": "code",
      "source": [
        "result_5.top_128_results"
      ],
      "metadata": {
        "id": "IQBneG9eYva5"
      },
      "execution_count": null,
      "outputs": []
    },
    {
      "cell_type": "code",
      "source": [
        "circuit_6 = QuantumCircuit.from_qasm_file('P5_granite_summit.qasm')\n",
        "device = \"quantum\"\n",
        "if circuit_6.num_clbits < circuit_6.num_qubits:\n",
        "    cr = ClassicalRegister(circuit_6.num_qubits - circuit_6.num_clbits)\n",
        "    circuit_6.add_register(cr)\n",
        "\n",
        "# Her bir qubit'i karşılık gelen klasik bit'e ölç\n",
        "circuit_6.measure(range(circuit_6.num_qubits), range(circuit_6.num_qubits))\n",
        "\n",
        "\n",
        "estimate = bq.estimate(circuit_6, device=\"quantum\")\n",
        "\n",
        "print(f\"Tahmini süre: {estimate.estimated_runtime} saniye\")\n",
        "print(f\"Tahmini maliyet: {estimate.estimated_cost} kredi\")"
      ],
      "metadata": {
        "id": "JXJm4B4g4Xou",
        "outputId": "a74b7194-5608-4f36-baef-16c5de65a110",
        "colab": {
          "base_uri": "https://localhost:8080/"
        }
      },
      "execution_count": 53,
      "outputs": [
        {
          "output_type": "stream",
          "name": "stdout",
          "text": [
            "Tahmini süre: 1 saniye\n",
            "Tahmini maliyet: 1.2 kredi\n"
          ]
        }
      ]
    },
    {
      "cell_type": "code",
      "source": [],
      "metadata": {
        "id": "B02wtXlb7gUu"
      },
      "execution_count": 57,
      "outputs": []
    },
    {
      "cell_type": "code",
      "source": [],
      "metadata": {
        "id": "HaRlPf38C3Gu"
      },
      "execution_count": null,
      "outputs": []
    }
  ],
  "metadata": {
    "colab": {
      "name": "pennylane_qiskit_colab.ipynb",
      "provenance": []
    },
    "kernelspec": {
      "display_name": "Python 3",
      "language": "python",
      "name": "python3"
    },
    "language_info": {
      "name": "python"
    }
  },
  "nbformat": 4,
  "nbformat_minor": 0
}