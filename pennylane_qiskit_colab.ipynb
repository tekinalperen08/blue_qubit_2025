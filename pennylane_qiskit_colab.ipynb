
{
 "cells": [
  {
   "cell_type": "code",
   "source": [
    "# 📓 Pennylane + Qiskit + Colab Ortamı - Başlangıç Template\n",
    "# ✅ 1. Gerekli Kütüphaneleri Kur\n",
    "!pip install pennylane qiskit qiskit-aer matplotlib seaborn pylatexenc --quiet\n",
    "\n",
    "# ✅ 2. İmportlar\n",
    "import pennylane as qml\n",
    "from pennylane import numpy as np\n",
    "\n",
    "import qiskit\n",
    "from qiskit import QuantumCircuit, Aer, execute\n",
    "from qiskit.visualization import plot_histogram\n",
    "from qiskit.circuit.library import QFT\n",
    "\n",
    "import matplotlib.pyplot as plt\n",
    "import seaborn as sns\n",
    "\n",
    "from pennylane_qiskit import AerDevice\n",
    "\n",
    "# ✅ 3. Pennylane Devresi - Bell State\n",
    "pl_dev = qml.device(\"default.qubit\", wires=2)\n",
    "\n",
    "@qml.qnode(pl_dev)\n",
    "def pennylane_bell():\n",
    "    qml.Hadamard(wires=0)\n",
    "    qml.CNOT(wires=[0, 1])\n",
    "    return qml.probs(wires=[0, 1])\n",
    "\n",
    "print(\"Pennylane Bell Devresi Çıktısı:\", pennylane_bell())\n",
    "\n",
    "# ✅ 4. Qiskit Devresi - Aynı Bell State\n",
    "qc = QuantumCircuit(2, 2)\n",
    "qc.h(0)\n",
    "qc.cx(0, 1)\n",
    "qc.measure([0, 1], [0, 1])\n",
    "\n",
    "sim = Aer.get_backend('qasm_simulator')\n",
    "job = execute(qc, backend=sim, shots=1024)\n",
    "counts = job.result().get_counts()\n",
    "\n",
    "print(\"Qiskit Bell Devresi Ölçüm Sonuçları:\")\n",
    "plot_histogram(counts)\n",
    "plt.show()\n",
    "\n",
    "# ✅ 5. Qiskit Devresini QASM Olarak Dışa Aktar\n",
    "qasm_code = qc.qasm()\n",
    "with open(\"bell_circuit.qasm\", \"w\") as f:\n",
    "    f.write(qasm_code)\n",
    "\n",
    "print(\"\\nQASM dosyası olusturuldu: bell_circuit.qasm\")\n",
    "\n",
    "# ✅ 6. (İsteğe Bağlı) Qiskit Devresini Pennylane ile Çalıştır\n",
    "pl_from_qiskit = qml.from_qiskit(qc.remove_final_measurements(inplace=False), wires=[0, 1])\n",
    "print(\"Pennylane ile Qiskit Devresinin Çıktısı:\", pl_from_qiskit())"
   ],
   "metadata": {},
   "execution_count": null,
   "outputs": []
  }
 ],
 "metadata": {
  "colab": {
   "name": "pennylane_qiskit_colab.ipynb",
   "provenance": []
  },
  "kernelspec": {
   "display_name": "Python 3",
   "language": "python",
   "name": "python3"
  },
  "language_info": {
   "name": "python"
  }
 },
 "nbformat": 4,
 "nbformat_minor": 0
}
